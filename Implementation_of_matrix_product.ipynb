{
  "nbformat": 4,
  "nbformat_minor": 0,
  "metadata": {
    "colab": {
      "provenance": [],
      "authorship_tag": "ABX9TyMfc5hxUlhvvXp0XzuiCf5q",
      "include_colab_link": true
    },
    "kernelspec": {
      "name": "python3",
      "display_name": "Python 3"
    },
    "language_info": {
      "name": "python"
    }
  },
  "cells": [
    {
      "cell_type": "markdown",
      "metadata": {
        "id": "view-in-github",
        "colab_type": "text"
      },
      "source": [
        "<a href=\"https://colab.research.google.com/github/Amarmurun0212/Diver/blob/main/Implementation_of_matrix_product.ipynb\" target=\"_parent\"><img src=\"https://colab.research.google.com/assets/colab-badge.svg\" alt=\"Open In Colab\"/></a>"
      ]
    },
    {
      "cell_type": "markdown",
      "source": [
        "[Problem 1] Matrix product is calculated manually\n",
        "\n",
        "Solve the matrix product of A and B by hand.\n",
        "\n",
        "Please also explain the calculation process using markdown text.\n"
      ],
      "metadata": {
        "id": "OVG7yLX20C0J"
      }
    },
    {
      "cell_type": "code",
      "execution_count": 2,
      "metadata": {
        "colab": {
          "base_uri": "https://localhost:8080/"
        },
        "id": "NkSDweBOytD-",
        "outputId": "95fbdc60-57c2-44c0-f414-aec83386b2cb"
      },
      "outputs": [
        {
          "output_type": "stream",
          "name": "stdout",
          "text": [
            "[[  6  29 -20]\n",
            " [ 12  52  38]\n",
            " [-18 -51 -48]]\n"
          ]
        }
      ],
      "source": [
        "import numpy as np\n",
        "a_ndarray = np.array([[-1, 2, 3], [4, -5, 6], [7, 8, -9]])\n",
        "b_ndarray = np.array([[0, 2, 1], [0, 2, -8], [2, 9, -1]])\n",
        "c_ndarray = np.dot(a_ndarray, b_ndarray)\n",
        "print(c_ndarray)"
      ]
    },
    {
      "cell_type": "markdown",
      "source": [
        "[Problem 2] Calculation by NumPy function\n",
        "\n",
        "This matrix product of NumPy can be easily calculated using np.matmul() or np.dot() , or the @ operator."
      ],
      "metadata": {
        "id": "dr5mm6Nd1XlA"
      }
    },
    {
      "cell_type": "code",
      "source": [
        "import numpy as np\n",
        "a_ndarray = np.array([[-1, 2, 3], [4, -5, 6], [7, 8, -9]])\n",
        "b_ndarray = np.array([[0, 2, 1], [0, 2, -8], [2, 9, -1]])\n",
        "c_ndarray = np.matmul(a_ndarray, b_ndarray)\n",
        "print(c_ndarray)"
      ],
      "metadata": {
        "colab": {
          "base_uri": "https://localhost:8080/"
        },
        "id": "EPGdDXHp1fjp",
        "outputId": "56e17f28-e614-4d2e-9e7b-8231377190d5"
      },
      "execution_count": 3,
      "outputs": [
        {
          "output_type": "stream",
          "name": "stdout",
          "text": [
            "[[  6  29 -20]\n",
            " [ 12  52  38]\n",
            " [-18 -51 -48]]\n"
          ]
        }
      ]
    },
    {
      "cell_type": "code",
      "source": [
        "import numpy as np\n",
        "a_ndarray = np.array([[-1, 2, 3], [4, -5, 6], [7, 8, -9]])\n",
        "b_ndarray = np.array([[0, 2, 1], [0, 2, -8], [2, 9, -1]])\n",
        "c_ndarray = a_ndarray@b_ndarray\n",
        "print(c_ndarray)"
      ],
      "metadata": {
        "colab": {
          "base_uri": "https://localhost:8080/"
        },
        "id": "cDIDqnix1nuI",
        "outputId": "4b658e67-b8e5-40aa-c864-3eca4b10e8f9"
      },
      "execution_count": 4,
      "outputs": [
        {
          "output_type": "stream",
          "name": "stdout",
          "text": [
            "[[  6  29 -20]\n",
            " [ 12  52  38]\n",
            " [-18 -51 -48]]\n"
          ]
        }
      ]
    },
    {
      "cell_type": "markdown",
      "source": [
        "[Problem 3] Implementation of calculation of a certain element\n",
        "\n",
        "When doing the calculations by hand, you may have first paid attention to row 0 of matrix A and column 0 of matrix B, and then performed the following calculations."
      ],
      "metadata": {
        "id": "79rfoGwf10jB"
      }
    },
    {
      "cell_type": "code",
      "source": [
        "a=[[1,2,3],[4,5,6],[7,8,9]]\n",
        "b=[[1,2,3],[4,5,6],[7,8,9]]\n",
        "\n",
        "total=0\n",
        "for i in range(0,len(a)):\n",
        "  total=total + a[0][i]*b[i][0]\n",
        "print (total)"
      ],
      "metadata": {
        "colab": {
          "base_uri": "https://localhost:8080/"
        },
        "id": "e1VQd8MT15ao",
        "outputId": "8d4a2034-3984-4359-deea-3f49595929a2"
      },
      "execution_count": 5,
      "outputs": [
        {
          "output_type": "stream",
          "name": "stdout",
          "text": [
            "30\n"
          ]
        }
      ]
    },
    {
      "cell_type": "markdown",
      "source": [
        "[Problem 4] Creating a function that performs matrix multiplication\n",
        "\n",
        "Extend the code in Problem 3 to complete the matrix product scratch implementation. It should be a function that takes matrices A and B as arguments and returns the matrix product."
      ],
      "metadata": {
        "id": "iwa6pnUl2GOP"
      }
    },
    {
      "cell_type": "code",
      "source": [
        "def matrix(a,b):\n",
        "  total=0\n",
        "  total_1=0\n",
        "  total_2=0\n",
        "  for i in range(0,len(a)):\n",
        "    total=total + a[0][i]*b[i][0]\n",
        "    total_1=total_1 + a[1][i]*b[i][1]\n",
        "    total_2=total_2 + a[2][i]*b[i][2]\n",
        "  return total, total_1, total_2\n",
        "print(list(matrix([[1,2,3],[4,5,6],[7,8,9]],[[1,2,3],[4,5,6],[7,8,9]])))"
      ],
      "metadata": {
        "colab": {
          "base_uri": "https://localhost:8080/"
        },
        "id": "HerNZRAH2J-A",
        "outputId": "cd3f80bf-7cf5-486b-b9c4-60dc2a181374"
      },
      "execution_count": 6,
      "outputs": [
        {
          "output_type": "stream",
          "name": "stdout",
          "text": [
            "[30, 81, 150]\n"
          ]
        }
      ]
    },
    {
      "cell_type": "markdown",
      "source": [
        "[Problem 5] Judge the input whose calculation is not defined\n",
        "\n",
        "Depending on the implementation method, the function created in Problem 4 may work even if this D and E array is input. In this case, incorrect calculations will be made. Also, even if an error occurs in the middle, a message that is hard to understand why the error occurred is displayed directly."
      ],
      "metadata": {
        "id": "FPhkGDLO2UJY"
      }
    },
    {
      "cell_type": "code",
      "source": [
        "def matrix(a,b):\n",
        "  total=0\n",
        "  total_1=0\n",
        "  for i in range(0,len(a)):\n",
        "    total=total + a[0][i]*b[i][0]\n",
        "    total_1=total_1 + a[1][i]*b[i][1]\n",
        "  return total, total_1,\n",
        "  if a.shape[0]==b.shape[1]:\n",
        "    return total, total_1, total_2\n",
        "  else:\n",
        "    print(\"Warning\")\n",
        "    return none\n",
        "print(list(matrix([[-1, 2, 3], [4, -5, 6]],[[-9, 8, 7], [6, -5, 4]])))"
      ],
      "metadata": {
        "colab": {
          "base_uri": "https://localhost:8080/"
        },
        "id": "zfZ8I5I82YJJ",
        "outputId": "c52d376f-8b91-4376-fa10-ed938c40436a"
      },
      "execution_count": 7,
      "outputs": [
        {
          "output_type": "stream",
          "name": "stdout",
          "text": [
            "[21, 57]\n"
          ]
        }
      ]
    },
    {
      "cell_type": "markdown",
      "source": [
        "[Problem 6] Transposition\n",
        "\n",
        "Transposing one matrix allows you to calculate the matrix product."
      ],
      "metadata": {
        "id": "xNRrEzWu2c5Z"
      }
    },
    {
      "cell_type": "code",
      "source": [
        "import numpy as np\n",
        "a_ndarray = np.array([[-1, 2, 3], [4, -5, 6], [7, 8, -9]])\n",
        "b_ndarray = np.array([[0, 2, 1], [0, 2, -8], [2, 9, -1]])\n",
        "c_ndarray = np.dot(a_ndarray, b_ndarray).T\n",
        "print(c_ndarray)"
      ],
      "metadata": {
        "colab": {
          "base_uri": "https://localhost:8080/"
        },
        "id": "KnlRHN8u2hhg",
        "outputId": "2993514c-d542-426c-f33d-02b2065db3fb"
      },
      "execution_count": 8,
      "outputs": [
        {
          "output_type": "stream",
          "name": "stdout",
          "text": [
            "[[  6  12 -18]\n",
            " [ 29  52 -51]\n",
            " [-20  38 -48]]\n"
          ]
        }
      ]
    }
  ]
}