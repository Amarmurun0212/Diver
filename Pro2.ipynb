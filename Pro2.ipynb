{
  "nbformat": 4,
  "nbformat_minor": 0,
  "metadata": {
    "colab": {
      "provenance": [],
      "authorship_tag": "ABX9TyNJdwr4C6gE7D/eObCn5HFN",
      "include_colab_link": true
    },
    "kernelspec": {
      "name": "python3",
      "display_name": "Python 3"
    },
    "language_info": {
      "name": "python"
    }
  },
  "cells": [
    {
      "cell_type": "markdown",
      "metadata": {
        "id": "view-in-github",
        "colab_type": "text"
      },
      "source": [
        "<a href=\"https://colab.research.google.com/github/Amarmurun0212/Diver/blob/main/Pro2.ipynb\" target=\"_parent\"><img src=\"https://colab.research.google.com/assets/colab-badge.svg\" alt=\"Open In Colab\"/></a>"
      ]
    },
    {
      "cell_type": "markdown",
      "source": [
        "Problem1"
      ],
      "metadata": {
        "id": "JU9kaysshlPA"
      }
    },
    {
      "cell_type": "code",
      "execution_count": 3,
      "metadata": {
        "colab": {
          "base_uri": "https://localhost:8080/"
        },
        "id": "0Rv4pS0ahiby",
        "outputId": "1eaf6e40-82bf-4613-feae-10200fc99f77"
      },
      "outputs": [
        {
          "output_type": "stream",
          "name": "stdout",
          "text": [
            "thickness= 703687441.77664\n"
          ]
        }
      ],
      "source": [
        "THICKNESS = 0.00008\n",
        "\n",
        "folded_thickness = THICKNESS * 2**43\n",
        "\n",
        "print(\"thickness=\",folded_thickness)\n",
        "\n"
      ]
    },
    {
      "cell_type": "markdown",
      "source": [
        "Problem 2"
      ],
      "metadata": {
        "id": "oAYFjMqwiJli"
      }
    },
    {
      "cell_type": "code",
      "source": [
        "print(\"thickness(km)=\",(folded_thickness / 1000))"
      ],
      "metadata": {
        "colab": {
          "base_uri": "https://localhost:8080/"
        },
        "id": "77HRbV1ViLuI",
        "outputId": "70c3dc23-8e91-48a4-f032-3b67f568ec2a"
      },
      "execution_count": 4,
      "outputs": [
        {
          "output_type": "stream",
          "name": "stdout",
          "text": [
            "thickness(km)= 703687.44177664\n"
          ]
        }
      ]
    },
    {
      "cell_type": "markdown",
      "source": [
        "Problem3"
      ],
      "metadata": {
        "id": "Y-Si7l-whkQg"
      }
    },
    {
      "cell_type": "code",
      "source": [
        "a=0.00008\n",
        "for i in range(43):\n",
        "  a=a*2\n",
        "print(a)\n"
      ],
      "metadata": {
        "colab": {
          "base_uri": "https://localhost:8080/"
        },
        "id": "my8hn5QwjE2J",
        "outputId": "59877c2c-bd7e-4bb2-bddd-fcd2dbfbdfa2"
      },
      "execution_count": 8,
      "outputs": [
        {
          "output_type": "stream",
          "name": "stdout",
          "text": [
            "703687441.77664\n"
          ]
        }
      ]
    },
    {
      "cell_type": "markdown",
      "source": [
        "Problem4"
      ],
      "metadata": {
        "id": "m7Ufy9Qjk_DC"
      }
    },
    {
      "cell_type": "code",
      "source": [
        "import time\n",
        "start = time.time()\n",
        "THICKNESS = 0.00008\n",
        "\n",
        "folded_thickness = THICKNESS * 2**43\n",
        "\n",
        "print(\"thickness=\",folded_thickness)\n",
        "elapsed_time = time.time() - start\n",
        "print(\"time math function : {}[s]\".format(elapsed_time))\n",
        "\n",
        "start = time.time()\n",
        "a=0.00008\n",
        "for i in range(43):\n",
        "  a=a*2\n",
        "print(a)\n",
        "elapsed_time = time.time() - start\n",
        "print(\"time for loop : {}[s]\".format(elapsed_time))\n"
      ],
      "metadata": {
        "colab": {
          "base_uri": "https://localhost:8080/"
        },
        "id": "ACZvIAGilBi4",
        "outputId": "ed214ea6-baac-451c-8d32-ac51e1ebccf0"
      },
      "execution_count": 11,
      "outputs": [
        {
          "output_type": "stream",
          "name": "stdout",
          "text": [
            "thickness= 703687441.77664\n",
            "time math function : 0.001958131790161133[s]\n",
            "703687441.77664\n",
            "time for loop : 0.0007405281066894531[s]\n"
          ]
        }
      ]
    },
    {
      "cell_type": "markdown",
      "source": [
        "**Problem4'**"
      ],
      "metadata": {
        "id": "nqfWeFT2lHJq"
      }
    },
    {
      "cell_type": "code",
      "source": [
        "%%timeit\n",
        "THICKNESS = 0.00008\n",
        "\n",
        "folded_thickness = THICKNESS * 2**43\n",
        "\n",
        "print(\"thickness=\",folded_thickness)"
      ],
      "metadata": {
        "id": "d58qz7TLlIkI"
      },
      "execution_count": null,
      "outputs": []
    },
    {
      "cell_type": "markdown",
      "source": [
        "Problem5"
      ],
      "metadata": {
        "id": "l6CrTZIzneRo"
      }
    },
    {
      "cell_type": "code",
      "source": [
        "import matplotlib.pyplot as plt\n",
        "import numpy as np\n",
        "folded_thickness_list=[]\n",
        "folded_thickness=0.00008\n",
        "for i in range(43):\n",
        "  #append listend utga zalgah\n",
        "  folded_thickness_list.append(folded_thickness)\n",
        "  folded_thickness=folded_thickness*2\n",
        "print(folded_thickness_list)\n",
        "print('Len lists=',len(folded_thickness_list))"
      ],
      "metadata": {
        "colab": {
          "base_uri": "https://localhost:8080/"
        },
        "id": "EF4Qrqj7nfv5",
        "outputId": "cf66a850-3ba9-4f87-c9a2-70a4908a7868"
      },
      "execution_count": 17,
      "outputs": [
        {
          "output_type": "stream",
          "name": "stdout",
          "text": [
            "[8e-05, 0.00016, 0.00032, 0.00064, 0.00128, 0.00256, 0.00512, 0.01024, 0.02048, 0.04096, 0.08192, 0.16384, 0.32768, 0.65536, 1.31072, 2.62144, 5.24288, 10.48576, 20.97152, 41.94304, 83.88608, 167.77216, 335.54432, 671.08864, 1342.17728, 2684.35456, 5368.70912, 10737.41824, 21474.83648, 42949.67296, 85899.34592, 171798.69184, 343597.38368, 687194.76736, 1374389.53472, 2748779.06944, 5497558.13888, 10995116.27776, 21990232.55552, 43980465.11104, 87960930.22208, 175921860.44416, 351843720.88832]\n",
            "Len lists= 43\n"
          ]
        }
      ]
    },
    {
      "cell_type": "markdown",
      "source": [
        "Problem6"
      ],
      "metadata": {
        "id": "wa6wiW7ppXw5"
      }
    },
    {
      "cell_type": "code",
      "source": [
        "import matplotlib.pyplot as plt\n",
        "%matplotlib inline\n",
        "\n",
        "# Display the graph. Title and axis label name.\n",
        "plt.title(\"thickness of folded paper\")\n",
        "plt.xlabel(\"number of folds\")\n",
        "plt.ylabel(\"thickness [m]\")\n",
        "plt.plot(folded_thickness_list)  # Enter the variable name of the list in \"List name\"\n",
        "plt.show()"
      ],
      "metadata": {
        "colab": {
          "base_uri": "https://localhost:8080/",
          "height": 472
        },
        "id": "Pa2NU4UUpZb3",
        "outputId": "8aaf1fbb-1765-43fe-96b3-4ece7f06e64b"
      },
      "execution_count": 20,
      "outputs": [
        {
          "output_type": "display_data",
          "data": {
            "text/plain": [
              "<Figure size 640x480 with 1 Axes>"
            ],
            "image/png": "[encoded data removed]"
          },
          "metadata": {}
        }
      ]
    },
    {
      "cell_type": "markdown",
      "source": [
        "Problem7"
      ],
      "metadata": {
        "id": "3-whT097pzNY"
      }
    },
    {
      "cell_type": "code",
      "source": [
        "import matplotlib.pyplot as plt\n",
        "%matplotlib inline\n",
        "\n",
        "# Display the graph. Title and axis label name.\n",
        "plt.title(\"thickness of folded paper\")\n",
        "plt.xlabel(\"number of folds\")\n",
        "plt.ylabel(\"thickness [m]\")\n",
        "plt.grid()\n",
        "plt.tick_params(labelsize=10,grid_color='blue')\n",
        "plt.plot(folded_thickness_list, color='red')\n",
        "plt.show()"
      ],
      "metadata": {
        "colab": {
          "base_uri": "https://localhost:8080/",
          "height": 472
        },
        "id": "1uz6TcN1p4HI",
        "outputId": "d568163b-99e7-4565-94a6-76708ca64ddd"
      },
      "execution_count": 23,
      "outputs": [
        {
          "output_type": "display_data",
          "data": {
            "text/plain": [
              "<Figure size 640x480 with 1 Axes>"
            ],
            "image/png": "[encoded data removed]"
          },
          "metadata": {}
        }
      ]
    }
  ]
}