{
  "nbformat": 4,
  "nbformat_minor": 0,
  "metadata": {
    "colab": {
      "provenance": [],
      "authorship_tag": "ABX9TyMdaA0ekyrr+0VJrqol6bTI",
      "include_colab_link": true
    },
    "kernelspec": {
      "name": "python3",
      "display_name": "Python 3"
    },
    "language_info": {
      "name": "python"
    }
  },
  "cells": [
    {
      "cell_type": "markdown",
      "metadata": {
        "id": "view-in-github",
        "colab_type": "text"
      },
      "source": [
        "<a href=\"https://colab.research.google.com/github/Amarmurun0212/Diver/blob/main/Mt_Fuji_paper_folding_issue.ipynb\" target=\"_parent\"><img src=\"https://colab.research.google.com/assets/colab-badge.svg\" alt=\"Open In Colab\"/></a>"
      ]
    },
    {
      "cell_type": "markdown",
      "source": [
        "Problem 1 : How many times to fold paper to exceed the height of Mt.Fuji?\n",
        "Создайте программу, которая вычисляет минимальное количество сгибов бумаги, необходимое для того, чтобы толщина превысила «высоту горы Фудзи (3776 м)»."
      ],
      "metadata": {
        "id": "qaj_jQgBHViu"
      }
    },
    {
      "cell_type": "code",
      "source": [
        "thickness = 0.00008\n",
        "number = 0\n",
        "list = []\n",
        "while thickness<3776:\n",
        "  list.append(number)\n",
        "  number +=1\n",
        "  thickness *= 2\n",
        "print (list)\n",
        "last_element=list[-1]\n",
        "print(last_element+1,' times to fold paper to exceed the height of Mt.Fuji')\n",
        "print (thickness,'m thickness')"
      ],
      "metadata": {
        "colab": {
          "base_uri": "https://localhost:8080/"
        },
        "id": "Joj00jcnHbXi",
        "outputId": "c3a8b35a-a624-4182-b877-c8b0de183ec7"
      },
      "execution_count": 11,
      "outputs": [
        {
          "output_type": "stream",
          "name": "stdout",
          "text": [
            "[0, 1, 2, 3, 4, 5, 6, 7, 8, 9, 10, 11, 12, 13, 14, 15, 16, 17, 18, 19, 20, 21, 22, 23, 24, 25]\n",
            "26  times to fold paper to exceed the height of Mt.Fuji\n",
            "5368.70912 m thickness\n"
          ]
        }
      ]
    },
    {
      "cell_type": "markdown",
      "source": [
        "Problem 2: Оруулсан өндрийг өгвөл түүнээс давахад шаардагдах цаасны хамгийн бага нугалалтыг гаргах функцийг хэрэгжүүл. Аргумент болгон нугалахаасаа өмнө $t_{0}$ зузааныг тохируулах боломжтой болгоцгооё.\n",
        "\n",
        "Энэ функцийг ашиглан хамгийн ойрын нарны бус од руу хүрэхийн тулд цаасыг хэдэн удаа нугалах шаардлагатайг тооцоол.\n",
        "Хамгийн ойрын нарны бус од бол дэлхийгээс 4.0175 \\ дахин 10^{16}$м зайтай орших Проксима Центаври юм."
      ],
      "metadata": {
        "id": "nOYxjH8kLBpk"
      }
    },
    {
      "cell_type": "code",
      "source": [
        "def our_function(x,y):\n",
        "  heigh_input = int # x value\n",
        "  any_thickness = int   # y value\n",
        "  number = 0\n",
        "  while y<x:\n",
        "    number +=1\n",
        "    y *=2\n",
        "  return number \n",
        "print(our_function(4017500000000000, 0.00008))"
      ],
      "metadata": {
        "colab": {
          "base_uri": "https://localhost:8080/"
        },
        "id": "enOfiDtYLzND",
        "outputId": "105b5f0a-a708-4a34-e277-9664bf4e077a"
      },
      "execution_count": 12,
      "outputs": [
        {
          "output_type": "stream",
          "name": "stdout",
          "text": [
            "66\n"
          ]
        }
      ]
    },
    {
      "cell_type": "markdown",
      "source": [
        "Problem 3: In fact, the paper around us cannot be folded 10 times, let alone 43 times. However, the larger the paper, the more it can be folded. There is a formula for finding the number of times a long piece of paper, such as toilet paper, can be folded when considering folding it in one direction.\n",
        "\n",
        "The length of paper L required to fold a $t_{0}$ thick paper n times can be obtained by the following formula.\n",
        "\n",
        "Use this formula to implement a function that finds the length of paper needed to actually fold the paper and reach any thickness.\n",
        "\n",
        "Then use this to find out the length of paper needed to reach the Moon, Mt. Fuji, and the stars closest to the Sun."
      ],
      "metadata": {
        "id": "Vzv6h4qIMSCD"
      }
    },
    {
      "cell_type": "code",
      "source": [
        "import numpy as np\n",
        "def our_function(x,y):\n",
        "  thickness = x\n",
        "  exponent = y\n",
        "  L=(np.pi*x)/6*((2**y+4)*(2**y-1))\n",
        "  return L\n",
        "print(our_function(0.00008,5))\n",
        "print('Proxima Centauri - ',our_function(0.00008,66)) \n",
        "print('height of Mt. Fuji -',our_function(0.00008,26)) \n",
        "print('Moon - ',our_function(0.00008,43)) \n"
      ],
      "metadata": {
        "colab": {
          "base_uri": "https://localhost:8080/"
        },
        "id": "st38hmNJNFTz",
        "outputId": "42213173-f94a-458b-ce79-02793686f597"
      },
      "execution_count": 18,
      "outputs": [
        {
          "output_type": "stream",
          "name": "stdout",
          "text": [
            "0.04674689868541613\n",
            "Proxima Centauri -  2.2805943126719294e+35\n",
            "height of Mt. Fuji - 188646348487.24017\n",
            "Moon -  3.240919444170781e+21\n"
          ]
        }
      ]
    }
  ]
}