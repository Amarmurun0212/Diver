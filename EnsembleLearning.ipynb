{
  "nbformat": 4,
  "nbformat_minor": 0,
  "metadata": {
    "colab": {
      "provenance": [],
      "authorship_tag": "ABX9TyMw77KwiMfmEtEVFowTwPUW",
      "include_colab_link": true
    },
    "kernelspec": {
      "name": "python3",
      "display_name": "Python 3"
    },
    "language_info": {
      "name": "python"
    }
  },
  "cells": [
    {
      "cell_type": "markdown",
      "metadata": {
        "id": "view-in-github",
        "colab_type": "text"
      },
      "source": [
        "<a href=\"https://colab.research.google.com/github/Amarmurun0212/Diver/blob/main/EnsembleLearning.ipynb\" target=\"_parent\"><img src=\"https://colab.research.google.com/assets/colab-badge.svg\" alt=\"Open In Colab\"/></a>"
      ]
    },
    {
      "cell_type": "code",
      "execution_count": 16,
      "metadata": {
        "id": "f0Zwgn0k9S3f"
      },
      "outputs": [],
      "source": [
        "import matplotlib.pyplot as plt\n",
        "%matplotlib inline\n",
        "import numpy as np\n",
        "import pandas as pd\n",
        "from sklearn.linear_model import LinearRegression\n",
        "from sklearn.svm import SVR\n",
        "from sklearn.model_selection import cross_val_score\n",
        "from sklearn.tree import DecisionTreeRegressor\n",
        "from sklearn.metrics import mean_squared_error\n",
        "from sklearn.model_selection import KFold\n",
        "from sklearn.preprocessing import StandardScaler\n",
        "from sklearn.model_selection import train_test_split\n",
        "import random\n",
        "import math"
      ]
    },
    {
      "cell_type": "markdown",
      "source": [
        "Preparing the dataset"
      ],
      "metadata": {
        "id": "cG6KGSkN9xit"
      }
    },
    {
      "cell_type": "code",
      "source": [
        "df = pd.read_csv(\"train.csv\")\n",
        "X = df[[\"GrLivArea\", \"YearBuilt\"]].values\n",
        "y = df[\"SalePrice\"].values"
      ],
      "metadata": {
        "id": "h6lOx7gRA1wm"
      },
      "execution_count": 14,
      "outputs": []
    },
    {
      "cell_type": "code",
      "source": [
        "X_train, X_test, y_train, y_test = train_test_split(X, y, test_size=0.20, random_state=42)"
      ],
      "metadata": {
        "id": "ebHpN25OA5mu"
      },
      "execution_count": 15,
      "outputs": []
    },
    {
      "cell_type": "code",
      "source": [
        "lr = LinearRegression()\n",
        "lr.fit(X_train, y_train)\n",
        "lr_y_pred = lr.predict(X_test)\n",
        "print(\"linear regression MSE : {}\".format(mean_squared_error(y_test, lr_y_pred)))"
      ],
      "metadata": {
        "colab": {
          "base_uri": "https://localhost:8080/"
        },
        "id": "PUizPJ0nBMjN",
        "outputId": "04ecb764-5dba-4e04-b1e9-c4367bea497c"
      },
      "execution_count": 18,
      "outputs": [
        {
          "output_type": "stream",
          "name": "stdout",
          "text": [
            "linear regression MSE : 2495554898.6683216\n"
          ]
        }
      ]
    },
    {
      "cell_type": "code",
      "source": [
        "svm = SVR()\n",
        "svm.fit(X_train, y_train)\n",
        "svm_y_pred = svm.predict(X_test)\n",
        "print(\"SVM MSE : {}\".format(mean_squared_error(y_test, svm_y_pred)))"
      ],
      "metadata": {
        "colab": {
          "base_uri": "https://localhost:8080/"
        },
        "id": "USigyuvBBO1V",
        "outputId": "a0cef8b2-250a-484b-d361-630d746f6d1a"
      },
      "execution_count": 19,
      "outputs": [
        {
          "output_type": "stream",
          "name": "stdout",
          "text": [
            "SVM MSE : 7844111028.863974\n"
          ]
        }
      ]
    },
    {
      "cell_type": "code",
      "source": [
        "tree = DecisionTreeRegressor()\n",
        "tree.fit(X_train, y_train)\n",
        "tree_y_pred = tree.predict(X_test)\n",
        "print(\"decision tree MSE : {}\".format(mean_squared_error(y_test, tree_y_pred)))"
      ],
      "metadata": {
        "colab": {
          "base_uri": "https://localhost:8080/"
        },
        "id": "Z-FqfW4vBXlW",
        "outputId": "6ec3993f-4299-473e-eb99-9762b9b3402c"
      },
      "execution_count": 21,
      "outputs": [
        {
          "output_type": "stream",
          "name": "stdout",
          "text": [
            "decision tree MSE : 2077147133.3565447\n"
          ]
        }
      ]
    },
    {
      "cell_type": "markdown",
      "source": [
        "**[Problem 1] Scratch implementation of blending**"
      ],
      "metadata": {
        "id": "y9Rqwo_9Bjs1"
      }
    },
    {
      "cell_type": "code",
      "source": [
        "def blend(X_train, X_test, y_train, model1, model2):\n",
        "    model1.fit(X_train, y_train)\n",
        "    model1_pred = model1.predict(X_test)\n",
        "    \n",
        "    model2.fit(X_train, y_train)\n",
        "    model2_pred = model2.predict(X_test)\n",
        "    y_pred = (model1_pred + model2_pred) / 2\n",
        "    return y_pred"
      ],
      "metadata": {
        "id": "Hi8qVZpdBlC1"
      },
      "execution_count": 22,
      "outputs": []
    },
    {
      "cell_type": "code",
      "source": [
        "y_pred = blend(X_train, X_test, y_train, lr, tree)\n",
        "print(\"   linear regression     MSE : {}\".format(mean_squared_error(y_test, lr_y_pred)))\n",
        "print(\"      SVM       MSE : {}\".format(mean_squared_error(y_test, svm_y_pred)))\n",
        "print(\"    decision tree      MSE : {}\".format(mean_squared_error(y_test, tree_y_pred)))\n",
        "print(\"linear regression + decision tree MSE : {}\".format(mean_squared_error(y_test, y_pred)))"
      ],
      "metadata": {
        "colab": {
          "base_uri": "https://localhost:8080/"
        },
        "id": "M4NfZzBBBopt",
        "outputId": "ea35f7b1-a7a4-493c-93c5-5e602e262bab"
      },
      "execution_count": 23,
      "outputs": [
        {
          "output_type": "stream",
          "name": "stdout",
          "text": [
            "   linear regression     MSE : 2495554898.6683216\n",
            "      SVM       MSE : 7844111028.863974\n",
            "    decision tree      MSE : 2077147133.3565447\n",
            "linear regression + decision tree MSE : 1845137211.190017\n"
          ]
        }
      ]
    },
    {
      "cell_type": "code",
      "source": [
        "y_pred = blend(X_train, X_test, y_train, svm, tree)\n",
        "print(\"linear regression   MSE : {}\".format(mean_squared_error(y_test, lr_y_pred)))\n",
        "print(\"SVM        MSE : {}\".format(mean_squared_error(y_test, svm_y_pred)))\n",
        "print(\"decision tree    MSE : {}\".format(mean_squared_error(y_test, tree_y_pred)))\n",
        "print(\"SVM+decision tree MSE : {}\".format(mean_squared_error(y_test, y_pred)))"
      ],
      "metadata": {
        "colab": {
          "base_uri": "https://localhost:8080/"
        },
        "id": "X8LoLlKAB0bN",
        "outputId": "7dc477b0-0951-4edb-d764-2acb877530ff"
      },
      "execution_count": 24,
      "outputs": [
        {
          "output_type": "stream",
          "name": "stdout",
          "text": [
            "linear regression   MSE : 2495554898.6683216\n",
            "SVM        MSE : 7844111028.863974\n",
            "decision tree    MSE : 2077147133.3565447\n",
            "SVM+decision tree MSE : 3384718539.983163\n"
          ]
        }
      ]
    },
    {
      "cell_type": "code",
      "source": [
        "model1 = SVR(gamma='scale', kernel='linear')\n",
        "model2 = SVR(gamma='scale') \n",
        "y_pred = blend(X_train, X_test, y_train, model1, model2)\n",
        "print(\"   linear regression     MSE : {}\".format(mean_squared_error(y_test, lr_y_pred)))\n",
        "print(\"      SVM       MSE : {}\".format(mean_squared_error(y_test, svm_y_pred)))\n",
        "print(\"    decision tree      MSE : {}\".format(mean_squared_error(y_test, tree_y_pred)))\n",
        "print(\"SVM linear+polynomial MSE : {}\".format(mean_squared_error(y_test, y_pred)))"
      ],
      "metadata": {
        "colab": {
          "base_uri": "https://localhost:8080/"
        },
        "id": "lrSiXILDB9H9",
        "outputId": "ec5f36a5-da02-4479-e5a4-9bee4a268f5e"
      },
      "execution_count": 25,
      "outputs": [
        {
          "output_type": "stream",
          "name": "stdout",
          "text": [
            "   linear regression     MSE : 2495554898.6683216\n",
            "      SVM       MSE : 7844111028.863974\n",
            "    decision tree      MSE : 2077147133.3565447\n",
            "SVM linear+polynomial MSE : 4450951532.463163\n"
          ]
        }
      ]
    },
    {
      "cell_type": "markdown",
      "source": [
        "**[Problem 2] Scratch implementation of bagging**"
      ],
      "metadata": {
        "id": "6JSO1wS9CNpd"
      }
    },
    {
      "cell_type": "code",
      "source": [
        "def bagging(X_train, X_test, y_train, model, n=2):\n",
        "    y_pred = np.zeros(X_test.shape[0])\n",
        "    for i in range(n):\n",
        "        X_divided = train_test_split(X_train, random_state=random.randint(0, i))[0]\n",
        "        y_divided = train_test_split(X_train, random_state=random.randint(0, i))[0]\n",
        "        model.fit(X_train, y_train)\n",
        "        y_pred += model.predict(X_test)\n",
        "    y_pred = y_pred / n\n",
        "    return y_pred\n",
        "\n",
        "y_pred = bagging(X_train, X_test, y_train, tree, n=100)\n",
        "\n",
        "print(\"    決定木      MSE : {}\".format(mean_squared_error(y_test, tree_y_pred)))\n",
        "print(\"bagging 決定木  MSE : {}\".format(mean_squared_error(y_test, y_pred)))"
      ],
      "metadata": {
        "colab": {
          "base_uri": "https://localhost:8080/"
        },
        "id": "1JtXs3APCPhd",
        "outputId": "7b60c939-f2bc-4218-d008-86790d693f54"
      },
      "execution_count": 26,
      "outputs": [
        {
          "output_type": "stream",
          "name": "stdout",
          "text": [
            "    決定木      MSE : 2077147133.3565447\n",
            "bagging 決定木  MSE : 2153320529.8075447\n"
          ]
        }
      ]
    },
    {
      "cell_type": "markdown",
      "source": [
        "**[Problem 3] Scratch implementation of stacking**"
      ],
      "metadata": {
        "id": "Zu8pkma8CYnO"
      }
    },
    {
      "cell_type": "code",
      "source": [
        "class Stacking():\n",
        "    def __init__(self, split_n=3, model_n=2):\n",
        "        self.split_n = split_n\n",
        "        self.model_n = model_n\n",
        "\n",
        "    def fit(self, X_train, y_train, X_test, y_test, models):\n",
        "        # K個に分割するdividerを作る\n",
        "        divider = np.zeros(self.split_n)\n",
        "        vol = X_train.shape[0]\n",
        "        num = self.split_n\n",
        "        for i in range(self.split_n):\n",
        "            divider[i] = math.ceil(vol/num)\n",
        "            num -= 1\n",
        "            vol = vol-divider[i]\n",
        "        \n",
        "        self.divider = divider.astype(int)\n",
        "        self.X_train = X_train\n",
        "        self.y_train = y_train\n",
        "        self.X_test = X_test\n",
        "        self.y_test = y_test\n",
        "        self.models = models\n",
        "        print(self.divider)\n",
        "    \n",
        "    def predict(self, X_test):\n",
        "        for m in range(self.model_n):\n",
        "            divide_point = 0\n",
        "            for n in range(self.split_n):\n",
        "                idx = np.zeros(X_train.shape[0], dtype=bool)\n",
        "                idx[divide_point:divide_point+self.divider[n]]= True\n",
        "                self.X_test_divided = X_train[idx, :]\n",
        "                self.X_train_divided = X_train[~idx, :]\n",
        "                self.y_test_divided = y_train[idx]\n",
        "                self.y_train_divided = y_train[~idx]                    \n",
        "                \n",
        "                models[m].fit(self.X_train_divided, self.y_train_divided)\n",
        "                if n == 0:\n",
        "                    blend = models[m].predict(self.X_test_divided)\n",
        "                    pred_data = models[m].predict(X_test)\n",
        "                else:\n",
        "                    blend = np.r_[blend, models[m].predict(self.X_test_divided)]\n",
        "                    pred_data = np.c_[pred_data, models[m].predict(X_test)]\n",
        "            \n",
        "                divide_point += self.divider[n]\n",
        "            if m ==0:\n",
        "                blend_data =blend.reshape(-1, 1)\n",
        "                blend_pred_data = np.mean(pred_data, axis=1)\n",
        "            else:\n",
        "                blend_data = np.c_[blend_data, blend.reshape(-1, 1) ]\n",
        "                blend_pred_data = np.c_[blend_pred_data, np.mean(pred_data, axis=1)]\n",
        "        \n",
        "        models[0].fit(blend_data, y_train)\n",
        "        y_pred = models[0].predict(blend_pred_data)                               \n",
        "        return y_pred"
      ],
      "metadata": {
        "id": "Anhb4wqpCZ2G"
      },
      "execution_count": 27,
      "outputs": []
    },
    {
      "cell_type": "code",
      "source": [
        "X_train, X_test, y_train, y_test = train_test_split(X, y, test_size=0.20, random_state=42)\n",
        "models = [LinearRegression(), DecisionTreeRegressor()]\n",
        "\n",
        "stacking = Stacking()\n",
        "stacking.fit(X_train, y_train, X_test, y_test, models)\n",
        "y_pred = stacking.predict(X_test)\n",
        "\n",
        "print(\"linear regression MSE : {}\".format(mean_squared_error(y_test, lr_y_pred)))\n",
        "print(\"SVM      MSE : {}\".format(mean_squared_error(y_test, svm_y_pred)))\n",
        "print(\"decision tree   MSE : {}\".format(mean_squared_error(y_test, tree_y_pred)))\n",
        "print(\"Stacking MSE : {}\".format(mean_squared_error(y_test, y_pred)))"
      ],
      "metadata": {
        "colab": {
          "base_uri": "https://localhost:8080/"
        },
        "id": "GtjOfEl2Cf6V",
        "outputId": "aa08b33f-1b13-487b-9b8a-2a3fbf063842"
      },
      "execution_count": 29,
      "outputs": [
        {
          "output_type": "stream",
          "name": "stdout",
          "text": [
            "[390 389 389]\n",
            "linear regression MSE : 2495554898.6683216\n",
            "SVM      MSE : 7844111028.863974\n",
            "decision tree   MSE : 2077147133.3565447\n",
            "Stacking MSE : 1955609479.2295792\n"
          ]
        }
      ]
    }
  ]
}