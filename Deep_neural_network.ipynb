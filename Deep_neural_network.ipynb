{
  "nbformat": 4,
  "nbformat_minor": 0,
  "metadata": {
    "colab": {
      "provenance": [],
      "authorship_tag": "ABX9TyORKbV4x3sgOeSUoO1dvopn",
      "include_colab_link": true
    },
    "kernelspec": {
      "name": "python3",
      "display_name": "Python 3"
    },
    "language_info": {
      "name": "python"
    }
  },
  "cells": [
    {
      "cell_type": "markdown",
      "metadata": {
        "id": "view-in-github",
        "colab_type": "text"
      },
      "source": [
        "<a href=\"https://colab.research.google.com/github/Amarmurun0212/Diver/blob/main/Deep_neural_network.ipynb\" target=\"_parent\"><img src=\"https://colab.research.google.com/assets/colab-badge.svg\" alt=\"Open In Colab\"/></a>"
      ]
    },
    {
      "cell_type": "code",
      "execution_count": 6,
      "metadata": {
        "id": "XePDM5H8oUUb"
      },
      "outputs": [],
      "source": [
        "import numpy as np \n",
        "import pandas as pd\n",
        "from sklearn.model_selection import train_test_split\n",
        "from keras.datasets import mnist\n",
        "from sklearn.preprocessing import OneHotEncoder\n",
        "import matplotlib.pyplot as plt\n",
        "from sklearn.metrics import accuracy_score, f1_score"
      ]
    },
    {
      "cell_type": "markdown",
      "source": [
        "[Problem 1] Classification of fully connected layers"
      ],
      "metadata": {
        "id": "oNkLmSm1rvGB"
      }
    },
    {
      "cell_type": "code",
      "source": [
        "class FC:\n",
        "    \"\"\"\n",
        "    Number of nodes Full connection layer from n_nodes1 to n_nodes2\n",
        "    Parameters\n",
        "    ----------\n",
        "    n_nodes1 : int\n",
        "      Number of nodes in the previous layer\n",
        "    n_nodes2 : int\n",
        "      Number of nodes in the next layer\n",
        "    initializer : Instance of initialization method\n",
        "    optimizer : Instance of optimization method\n",
        "    \"\"\"\n",
        "    def __init__(self, n_nodes1, n_nodes2, initializer, optimizer, activation):\n",
        "        self.optimizer = optimizer\n",
        "        self.initializer = initializer\n",
        "        self.n_nodes1 = n_nodes1\n",
        "        self.n_nodes2 = n_nodes2\n",
        "        self.activation = activation\n",
        "        # Initialization\n",
        "        # Initialize self.W and self.B using the #initialr method\n",
        "\n",
        "        self.W = self.initializer.W(self.n_nodes1, self.n_nodes2)\n",
        "        self.B = self.initializer.B(self.n_nodes2)\n",
        "        \n",
        "    def forward(self, X):\n",
        "        \"\"\"\n",
        "        forward propagation\n",
        "\n",
        "        Parameters\n",
        "        ----------\n",
        "        X : ndarray, shape (batch_size, n_nodes1)\n",
        "            input\n",
        "        Returns\n",
        "        ----------\n",
        "        A : のndarray, shape (batch_size, n_nodes2)\n",
        "            output\n",
        "        \"\"\"        \n",
        "        self.X = X\n",
        "        self.A = np.dot(self.X, self.W) + self.B\n",
        "        A = self.activation.forward(self.A)\n",
        "        return A\n",
        "    def backward(self, dA):\n",
        "        \"\"\"\n",
        "        backward propagation\n",
        "        Parameters\n",
        "        ----------\n",
        "        dA : ndarray, shape (batch_size, n_nodes2)\n",
        "            Gradient descent from behind\n",
        "        Returns\n",
        "        ----------\n",
        "        dZ : ndarray, shape (batch_size, n_nodes1)\n",
        "            Gradient descent forward\n",
        "        \"\"\"\n",
        "        dA = self.activation.backward(dA)\n",
        "        self.dB = np.mean(dA, axis = 0)\n",
        "        self.dW = np.dot(self.X.T, dA)/len(self.X)\n",
        "        dZ = np.dot(dA, self.W.T)\n",
        "         \n",
        "        self = self.optimizer.update(self)\n",
        "        return dZ"
      ],
      "metadata": {
        "id": "cDLr8tGBsnTp"
      },
      "execution_count": 5,
      "outputs": []
    },
    {
      "cell_type": "markdown",
      "source": [
        "[Problem 2] Classification of initialization method"
      ],
      "metadata": {
        "id": "dXP8pJKht4nJ"
      }
    },
    {
      "cell_type": "code",
      "source": [
        "class SimpleInitializer:\n",
        "    \"\"\"\n",
        "    ガウス分布によるシンプルな初期化\n",
        "    Parameters\n",
        "    ----------\n",
        "    sigma : float\n",
        "      ガウス分布の標準偏差\n",
        "    \"\"\"\n",
        "    def __init__(self, sigma):\n",
        "        self.sigma = sigma\n",
        "\n",
        "    def W(self, n_nodes1, n_nodes2):\n",
        "        \"\"\"\n",
        "        Weight initialization\n",
        "        Parameters\n",
        "        ----------\n",
        "        n_nodes1 : int\n",
        "          Number of nodes in the previous layer\n",
        "        n_nodes2 : int\n",
        "          Number of nodes in the later layer\n",
        "\n",
        "        Returns\n",
        "        ----------\n",
        "        W : ndarray shape with (n_nodes1, n_nodes2)\n",
        "          weights of hidden layer\n",
        "        \"\"\"\n",
        "        W = self.sigma * np.random.randn(n_nodes1, n_nodes2)\n",
        "        return W\n",
        "\n",
        "    def B(self, n_nodes2):\n",
        "        \"\"\"\n",
        "        バイアスの初期化\n",
        "        Parameters\n",
        "        ----------\n",
        "        n_nodes2 : int\n",
        "          後の層のノード数\n",
        "\n",
        "        Returns\n",
        "        ----------\n",
        "        B : ndarray shape with (n_nodes2, 1)\n",
        "          bias of hidden layer\n",
        "        \"\"\"\n",
        "        B = np.zeros(n_nodes2)\n",
        "        return B"
      ],
      "metadata": {
        "id": "6Fm6E9x2t5Eg"
      },
      "execution_count": 4,
      "outputs": []
    },
    {
      "cell_type": "markdown",
      "source": [
        "[Problem 3] Classification of optimization methods"
      ],
      "metadata": {
        "id": "CME6MNcuuFOA"
      }
    },
    {
      "cell_type": "code",
      "source": [
        "class SGD:\n",
        "    \"\"\"\n",
        "    Stochastic gradient descent\n",
        "    Parameters\n",
        "    ----------\n",
        "    lr : learning rate\n",
        "    \"\"\"\n",
        "    def __init__(self, lr):\n",
        "        self.lr = lr\n",
        "\n",
        "    def update(self, layer):\n",
        "        \"\"\"\n",
        "        Update weights and biases for a layer\n",
        "        Parameters\n",
        "        ----------\n",
        "        layer : Instance of the layer before update\n",
        "        \"\"\"\n",
        "        layer.W -= self.lr*layer.dW\n",
        "        layer.B -= self.lr*layer.dB\n",
        "        return layer"
      ],
      "metadata": {
        "id": "QqvjnEHguGAp"
      },
      "execution_count": 7,
      "outputs": []
    },
    {
      "cell_type": "markdown",
      "source": [
        "[Problem 4] Classification of activation function"
      ],
      "metadata": {
        "id": "OZ2e9kzHuRiY"
      }
    },
    {
      "cell_type": "code",
      "source": [
        "class softmax():\n",
        "  \"\"\"\n",
        "  Activation function - softmax\n",
        "  \"\"\"\n",
        "  def __init__(self):\n",
        "      pass\n",
        "  \n",
        "  def forward(self, A):\n",
        "    #print(\"A:\", A)\n",
        "    #print(\"temp:\", np.exp(A - np.max(A)))\n",
        "    #print(\"forward temp:\", np.sum(np.exp(A-np.max(A))))\n",
        "    temp = np.exp(A - np.max(A))/np.sum(np.exp(A-np.max(A)), axis = 1, keepdims= True)\n",
        "    return temp\n",
        "\n",
        "  def backward(self, dZ):\n",
        "    return dZ"
      ],
      "metadata": {
        "id": "aKhGfOxluYUo"
      },
      "execution_count": 8,
      "outputs": []
    },
    {
      "cell_type": "markdown",
      "source": [
        "[Problem 5] Create ReLU class"
      ],
      "metadata": {
        "id": "N_Rnl6KIudAH"
      }
    },
    {
      "cell_type": "code",
      "source": [
        "class ReLU():\n",
        "  \"\"\"\n",
        "  Activation function - relu\n",
        "  \"\"\"\n",
        "  def __init__(self):\n",
        "      pass\n",
        "  \n",
        "  def forward(self, A):\n",
        "    self.A = A\n",
        "    temp = np.maximum(self.A, 0)\n",
        "    return temp\n",
        "\n",
        "  def backward(self, dZ):\n",
        "    ret = np.where(self.A>0, dZ, 0)\n",
        "    return ret"
      ],
      "metadata": {
        "id": "kdwKkx85unT3"
      },
      "execution_count": 9,
      "outputs": []
    },
    {
      "cell_type": "code",
      "source": [
        "class tanh():\n",
        "  \"\"\"\n",
        "  Activation function - tangent\n",
        "  \"\"\"\n",
        "  def __init__(self):\n",
        "      pass\n",
        "  \n",
        "  def forward(self, A):\n",
        "    self.A = A\n",
        "    self.Z = np.tanh(self.A)\n",
        "\n",
        "    return self.Z\n",
        "\n",
        "  def backward(self, dZ):\n",
        "    ret = dZ * (1-self.Z**2)\n",
        "    return ret\n"
      ],
      "metadata": {
        "id": "vD7ZPPOhu44w"
      },
      "execution_count": 10,
      "outputs": []
    },
    {
      "cell_type": "markdown",
      "source": [
        "[Problem 6] Initial value of weight"
      ],
      "metadata": {
        "id": "v6poKeTgu8d_"
      }
    },
    {
      "cell_type": "code",
      "source": [
        "class XavierInitializer:\n",
        "    \"\"\"\n",
        "    Xavier initialization\n",
        "    \"\"\"\n",
        "\n",
        "    def __init__(self):\n",
        "        pass\n",
        "\n",
        "    def W(self, n_nodes1, n_nodes2):\n",
        "        \"\"\"\n",
        "        Weight initialization\n",
        "        Parameters\n",
        "        ----------\n",
        "        n_nodes1 : int\n",
        "          Number of nodes in the previous layer\n",
        "        n_nodes2 : int\n",
        "          Number of nodes in the later layer\n",
        "\n",
        "        Returns\n",
        "        ----------\n",
        "        W : ndarray shape with (n_nodes1, n_nodes2)\n",
        "          weights of hidden layer\n",
        "        \"\"\"\n",
        "        W = np.random.randn(n_nodes1, n_nodes2)/np.sqrt(n_nodes1)\n",
        "        return W\n",
        "\n",
        "    def B(self, n_nodes2):\n",
        "        \"\"\"\n",
        "        bias initializer\n",
        "        Parameters\n",
        "        ----------\n",
        "        n_nodes2 : int\n",
        "          Number of nodes in the later layer\n",
        "\n",
        "        Returns\n",
        "        ----------\n",
        "        B : ndarray shape with (n_nodes2, 1)\n",
        "          bias of hidden layer\n",
        "        \"\"\"\n",
        "        B = np.zeros(n_nodes2)\n",
        "        return B"
      ],
      "metadata": {
        "id": "A9RQ86Xzu9WP"
      },
      "execution_count": 11,
      "outputs": []
    },
    {
      "cell_type": "code",
      "source": [
        "class HeInitializer:\n",
        "    \"\"\"\n",
        "    He initialization\n",
        "    \"\"\"\n",
        "\n",
        "    def __init__(self):\n",
        "        pass\n",
        "\n",
        "    def W(self, n_nodes1, n_nodes2):\n",
        "        \"\"\"\n",
        "        Weight initialization\n",
        "        Parameters\n",
        "        ----------\n",
        "        n_nodes1 : int\n",
        "          Number of nodes in the previous layer\n",
        "        n_nodes2 : int\n",
        "          Number of nodes in the later layer\n",
        "\n",
        "        Returns\n",
        "        ----------\n",
        "        W : ndarray shape with (n_nodes1, n_nodes2)\n",
        "          weights of hidden layer\n",
        "        \"\"\"\n",
        "        W = np.random.randn(n_nodes1, n_nodes2)/np.sqrt(2/n_nodes1)\n",
        "        return W\n",
        "\n",
        "    def B(self, n_nodes2):\n",
        "        \"\"\"\n",
        "        bias initializer\n",
        "        Parameters\n",
        "        ----------\n",
        "        n_nodes2 : int\n",
        "          Number of nodes in the later layer\n",
        "\n",
        "        Returns\n",
        "        ----------\n",
        "        B : ndarray shape with (n_nodes2, 1)\n",
        "          bias of hidden layer\n",
        "        \"\"\"\n",
        "        B = np.zeros(n_nodes2)\n",
        "        return B"
      ],
      "metadata": {
        "id": "dilU5Y3evLSp"
      },
      "execution_count": 12,
      "outputs": []
    },
    {
      "cell_type": "markdown",
      "source": [
        "[Problem 7] Optimization method"
      ],
      "metadata": {
        "id": "eaMLW6qOvQZ_"
      }
    },
    {
      "cell_type": "code",
      "source": [
        "class Adagrad:\n",
        "  \"\"\"\n",
        "  stochastic gradient descent method\n",
        "\n",
        "  Parameters\n",
        "  -----------\n",
        "  lr : learning rate\n",
        "  \"\"\"\n",
        "  def __init__(self, lr):\n",
        "      self.lr = lr\n",
        "      self.hW = 0\n",
        "      self.hB = 0\n",
        "  \n",
        "  def update(self,layer):\n",
        "    \"\"\"\n",
        "    Updating the weights and biases of a layer\n",
        "    Parameters\n",
        "    -----------\n",
        "    layer : Instance of the layer before the update\n",
        "    \"\"\"\n",
        "    self.hW += layer.dW * layer.dW\n",
        "    self.hB = layer.dB * layer.dB\n",
        "\n",
        "    layer.W -= self.lr * layer.dW/(np.sqrt(self.hW) + 1e-7)\n",
        "    layer.B -=self.lr * layer.dB/(np.sqrt(self.hB) + 1e-7)\n",
        "\n",
        "    return layer"
      ],
      "metadata": {
        "id": "cS-tX6tsvREP"
      },
      "execution_count": 13,
      "outputs": []
    },
    {
      "cell_type": "code",
      "source": [
        "class GetMiniBatch:\n",
        "    \"\"\"\n",
        "    Iterator to get a mini-batch\n",
        "    Parameters\n",
        "    ----------\n",
        "    X : ndarray, shape (n_samples, n_features)\n",
        "      training data\n",
        "    y : ndarray, shape (n_samples, 1)\n",
        "      Label of training data\n",
        "    batch_size : int\n",
        "      batch size\n",
        "    seed : int\n",
        "      NumPy random seed\n",
        "    \"\"\"\n",
        "    def __init__(self, X, y, batch_size = 20, seed=0):\n",
        "        self.batch_size = batch_size\n",
        "        np.random.seed(seed)\n",
        "        shuffle_index = np.random.permutation(np.arange(X.shape[0]))\n",
        "        self._X = X[shuffle_index]\n",
        "        self._y = y[shuffle_index]\n",
        "        self._stop = np.ceil(X.shape[0]/self.batch_size).astype(np.int64)\n",
        "\n",
        "    def __len__(self):\n",
        "        return self._stop\n",
        "\n",
        "    def __getitem__(self,item):\n",
        "        p0 = item*self.batch_size\n",
        "        p1 = item*self.batch_size + self.batch_size\n",
        "        return self._X[p0:p1], self._y[p0:p1]        \n",
        "\n",
        "    def __iter__(self):\n",
        "        self._counter = 0\n",
        "        return self\n",
        "\n",
        "    def __next__(self):\n",
        "        if self._counter >= self._stop:\n",
        "            raise StopIteration()\n",
        "        p0 = self._counter*self.batch_size\n",
        "        p1 = self._counter*self.batch_size + self.batch_size\n",
        "        self._counter += 1\n",
        "        return self._X[p0:p1], self._y[p0:p1]"
      ],
      "metadata": {
        "id": "Hpt1U-o9vdHn"
      },
      "execution_count": 14,
      "outputs": []
    },
    {
      "cell_type": "markdown",
      "source": [
        "[Question 8] Class Completion"
      ],
      "metadata": {
        "id": "2uNxt9Yevk0_"
      }
    },
    {
      "cell_type": "code",
      "source": [
        "class ScratchDNNClassifier():\n",
        "    \"\"\"\n",
        "    Deep neural network classifier\n",
        "\n",
        "    Parameters\n",
        "    ----------\n",
        "\n",
        "    Attributes\n",
        "    ----------\n",
        "    \"\"\"\n",
        "\n",
        "    def __init__(self, NN, n_epoch = 50, sigma = 0.01, n_batch = 20, learning_rate = 0.01, verbose = False):\n",
        "        # Record hyperparameters as attributes\n",
        "        self.verbose = verbose\n",
        "        self.n_epoch = n_epoch\n",
        "        self.NN = NN\n",
        "        self.sigma = sigma\n",
        "        self.n_batch = n_batch\n",
        "        self.lr = learning_rate\n",
        "        self.log_loss = np.zeros(self.n_epoch)\n",
        "        self.log_acc = np.zeros(self.n_epoch)\n",
        "    \n",
        "    def loss_function(self, y, yt):\n",
        "        delta = 1e-7\n",
        "        return -np.mean(yt*np.log(y + delta))\n",
        "    \n",
        "    def accuracy(self, y, yt):\n",
        "        temp = accuracy_score(y, yt)\n",
        "        return temp\n",
        "\n",
        "    def fit(self, X, y, X_val=None, y_val=None):\n",
        "        \"\"\"\n",
        "        Train a neural network classifier.\n",
        "\n",
        "        Parameters\n",
        "        ----------\n",
        "        X : ndarray, shape (n_samples, n_features)\n",
        "            Features of training data\n",
        "        y : ndarray, shape (n_samples, )\n",
        "            Label of training data\n",
        "        X_val : ndarray, shape (n_samples, n_features)\n",
        "            Features of validation data\n",
        "        y_val : ndarray, shape (n_samples, )\n",
        "            Label of validation data\n",
        "        \"\"\"\n",
        "\n",
        "        for epoch in range(self.n_epoch):\n",
        "            get_mini_batch = GetMiniBatch(X, y , batch_size = self.n_batch)\n",
        "            self.loss = 0\n",
        "\n",
        "            for mini_X_train , mini_y_train in get_mini_batch:\n",
        "                #print(\"mini X train:\", mini_X_train)\n",
        "                #forward propagation\n",
        "                \n",
        "                forward_data = mini_X_train\n",
        "                for layer in range(len(self.NN)):\n",
        "                  forward_data = self.NN[layer].forward(forward_data)\n",
        "                  \n",
        "                Z = forward_data\n",
        "\n",
        "                #back propagation\n",
        "                backward_data = (Z - mini_y_train)/self.n_batch\n",
        "                for layer in range(len(self.NN) -1,-1,-1):\n",
        "                  backward_data = self.NN[layer].backward(backward_data)\n",
        "      \n",
        "                #loss\n",
        "                self.loss += self.loss_function(Z, mini_y_train)\n",
        "            \n",
        "            # record loss function for each epoch\n",
        "            self.log_loss[epoch] = self.loss/len(get_mini_batch)\n",
        "            self.log_acc[epoch] = self.accuracy(self.predict(X),np.argmax(y, axis = 1))\n",
        "\n",
        "            if self.verbose:\n",
        "                print('epoch:{} loss:{} acc:{}'.format(epoch, self.loss/self.n_batch, self.log_acc[epoch]))        \n",
        "\n",
        "    def predict(self, X):\n",
        "        \"\"\"\n",
        "        Estimate using a neural network classifier.\n",
        "\n",
        "        Parameters\n",
        "        ----------\n",
        "        X : ndarray, shape (n_samples, n_features)\n",
        "            training sample\n",
        "\n",
        "        Returns\n",
        "        -------\n",
        "        pred:    ndarray, shape (n_samples, 1)\n",
        "            predicted result\n",
        "        \"\"\"\n",
        "\n",
        "        pred = X\n",
        "        for layer in range(len(self.NN)):\n",
        "          pred = self.NN[layer].forward(pred)\n",
        "        \n",
        "        temp = np.argmax(pred, axis=1)\n",
        "        return temp\n",
        "\n",
        "class ScratchSimpleNeuralNetrowkClassifier():\n",
        "    \"\"\"\n",
        "    A Simple three-layer neural network classifier\n",
        "\n",
        "    Parameters\n",
        "    ----------\n",
        "\n",
        "    Attributes\n",
        "    ----------\n",
        "    \"\"\"\n",
        "\n",
        "    def __init__(self, n_epoch = 50, n_features = 784, n_nodes1 = 400, n_nodes2 = 200, n_output = 10,\n",
        "                sigma = 0.01, n_batch = 20, learning_rate = 0.01, verbose = False):\n",
        "        # Record hyperparameters as attributes\n",
        "        self.verbose = verbose\n",
        "        self.n_epoch = n_epoch\n",
        "        self.n_features = n_features\n",
        "        self.n_nodes1 = n_nodes1\n",
        "        self.n_nodes2 = n_nodes2\n",
        "        self.n_output = n_output\n",
        "        self.sigma = sigma\n",
        "        self.n_batch = n_batch\n",
        "        self.lr = learning_rate\n",
        "        self.log_loss = np.zeros(self.n_epoch)\n",
        "    \n",
        "    def loss_function(self, y, yt):\n",
        "        delta = 1e-7\n",
        "        return -np.mean(yt*np.log(y + delta))\n",
        "\n",
        "    def fit(self, X, y, X_val=None, y_val=None):\n",
        "        \"\"\"\n",
        "        Train a neural network classifier.\n",
        "\n",
        "        Parameters\n",
        "        ----------\n",
        "        X : ndarray, shape (n_samples, n_features)\n",
        "            Features of training data\n",
        "        y : ndarray, shape (n_samples, )\n",
        "            Label of training data\n",
        "        X_val : ndarray, shape (n_samples, n_features)\n",
        "            Features of validation data\n",
        "        y_val : ndarray, shape (n_samples, )\n",
        "            Label of validation data\n",
        "        \"\"\"\n",
        "        #self.log_loss = []\n",
        "        # initialize weights\n",
        "        optimizer1 = Adagrad(self.lr)\n",
        "        optimizer2 = Adagrad(self.lr)\n",
        "        optimizer3 = Adagrad(self.lr)\n",
        "\n",
        "        initializer1 = XavierInitializer()\n",
        "        initializer2 = HeInitializer()\n",
        "        initializer3 = SimpleInitializer(self.sigma)\n",
        "\n",
        "        # the loss function for each epoch \n",
        "        \n",
        "\n",
        "        self.FC1 = FC(self.n_features, self.n_nodes1, initializer1, optimizer1, tanh())\n",
        "        self.FC2 = FC(self.n_nodes1, self.n_nodes2, initializer2, optimizer2, tanh())\n",
        "        self.FC3 = FC(self.n_nodes2, self.n_output, initializer3, optimizer3, softmax())\n",
        "\n",
        "        for epoch in range(self.n_epoch):\n",
        "            get_mini_batch = GetMiniBatch(X, y , batch_size = self.n_batch)\n",
        "            self.loss = 0\n",
        "\n",
        "            for mini_X_train , mini_y_train in get_mini_batch:\n",
        "                #forward propagation\n",
        "                #1st layer\n",
        "                self.z1 = self.FC1.forward(mini_X_train)\n",
        "                #2nd layer\n",
        "                self.z2 = self.FC2.forward(self.z1)\n",
        "                #3rd layer\n",
        "                self.z3 = self.FC3.forward(self.z2)\n",
        "\n",
        "                # back propagation\n",
        "                #3rd layer\n",
        "                self.dA3 = (self.z3 - mini_y_train)/self.n_batch\n",
        "                #2nd layer\n",
        "                self.dz2 = self.FC3.backward(self.dA3)\n",
        "                #1st layer\n",
        "                self.dz1 = self.FC2.backward(self.dz2)\n",
        "                self.dz0 = self.FC1.backward(self.dz1)\n",
        "\n",
        "                #backpropagation\n",
        "                self.loss += self.loss_function(self.z3, mini_y_train)\n",
        "            \n",
        "            # record loss function for each epoch\n",
        "            self.log_loss[epoch] = self.loss/len(get_mini_batch)\n",
        "\n",
        "            if self.verbose:\n",
        "                print('epoch:{} loss:{}'.format(epoch, self.loss/self.n_batch))        \n",
        "\n",
        "    def predict(self, X):\n",
        "        \"\"\"\n",
        "        Estimate using a neural network classifier.\n",
        "\n",
        "        Parameters\n",
        "        ----------\n",
        "        X : ndarray, shape (n_samples, n_features)\n",
        "            training sample\n",
        "\n",
        "        Returns\n",
        "        -------\n",
        "        pred:    ndarray, shape (n_samples, 1)\n",
        "            predicted result\n",
        "        \"\"\"\n",
        "\n",
        "        pred_z1 = self.FC1.forward(X)\n",
        "        pred_z2 = self.FC2.forward(pred_z1)\n",
        "        pred = np.argmax(self.FC3.forward(pred_z2), axis=1)\n",
        "        return pred"
      ],
      "metadata": {
        "id": "L6h9gYZGvlaf"
      },
      "execution_count": 15,
      "outputs": []
    },
    {
      "cell_type": "code",
      "source": [
        "(X_train, y_train), (X_test, y_test) = mnist.load_data()\n",
        "\n",
        "print(\"X_train data shape: \", X_train.shape) # (60000, 28, 28)\n",
        "print(\"X_test data shape: \", X_test.shape) # (10000, 28, 28)\n",
        "\n",
        "X_train = X_train.reshape(-1, 784)\n",
        "X_test = X_test.reshape(-1, 784)\n",
        "\n",
        "print(\"X_train flatten data shape: \", X_train.shape) # (60000, 28, 28)\n",
        "print(\"X_test flatten data shape: \", X_test.shape) # (10000, 28, 28)\n",
        "\n",
        "# Preprocessing\n",
        "\n",
        "X_train = X_train.astype(np.float)\n",
        "X_test = X_test.astype(np.float)\n",
        "X_train /= 255\n",
        "X_test /= 255\n",
        "print('X_train max value:', X_train.max()) # 1.0\n",
        "print('X_train min value:', X_train.min()) # 0.0\n",
        "\n",
        "# the correct label is an integer from 0 to 9, but it is converted to a one-hot representation\n",
        "\n",
        "X_train, X_val, y_train, y_val = train_test_split(X_train, y_train, test_size=0.2)\n",
        "enc = OneHotEncoder(handle_unknown='ignore', sparse=False)\n",
        "y_train_one_hot = enc.fit_transform(y_train.reshape(-1,1))\n",
        "y_val_one_hot = enc.fit_transform(y_val.reshape(-1,1))\n",
        "print(\"Train dataset:\", X_train.shape) # (48000, 784)\n",
        "print(\"Validation dataset:\", X_val.shape) # (12000, 784)\n",
        "clf = ScratchSimpleNeuralNetrowkClassifier(n_epoch = 25, n_features = 784, n_nodes1 = 400, n_nodes2 = 200, n_output = 10,\n",
        "                sigma = 0.01, n_batch = 20, learning_rate = 0.01, verbose = True)\n",
        "\n",
        "clf.fit(X_train, y_train_one_hot)\n",
        "pred = clf.predict(X_val)\n",
        "print(pred)\n",
        "acc = accuracy_score(y_val, pred)\n",
        "print(\"Accuracy:\", acc)\n",
        "\n",
        "fig = plt.subplots()\n",
        "plt.title(\"Loss learning graph\")\n",
        "plt.xlabel(\"epoch\")\n",
        "plt.ylabel('Loss')\n",
        "plt.plot(clf.log_loss)\n",
        "plt.show()\n"
      ],
      "metadata": {
        "colab": {
          "base_uri": "https://localhost:8080/",
          "height": 1000
        },
        "id": "KZjsDgaswM4w",
        "outputId": "448fbc4d-d184-4b69-893c-9233916f84ea"
      },
      "execution_count": 17,
      "outputs": [
        {
          "output_type": "stream",
          "name": "stdout",
          "text": [
            "Downloading data from https://storage.googleapis.com/tensorflow/tf-keras-datasets/mnist.npz\n",
            "11490434/11490434 [==============================] - 1s 0us/step\n",
            "X_train data shape:  (60000, 28, 28)\n",
            "X_test data shape:  (10000, 28, 28)\n",
            "X_train flatten data shape:  (60000, 784)\n",
            "X_test flatten data shape:  (10000, 784)\n"
          ]
        },
        {
          "output_type": "stream",
          "name": "stderr",
          "text": [
            "<ipython-input-17-bd5d69116ee8>:14: DeprecationWarning: `np.float` is a deprecated alias for the builtin `float`. To silence this warning, use `float` by itself. Doing this will not modify any behavior and is safe. If you specifically wanted the numpy scalar type, use `np.float64` here.\n",
            "Deprecated in NumPy 1.20; for more details and guidance: https://numpy.org/devdocs/release/1.20.0-notes.html#deprecations\n",
            "  X_train = X_train.astype(np.float)\n",
            "<ipython-input-17-bd5d69116ee8>:15: DeprecationWarning: `np.float` is a deprecated alias for the builtin `float`. To silence this warning, use `float` by itself. Doing this will not modify any behavior and is safe. If you specifically wanted the numpy scalar type, use `np.float64` here.\n",
            "Deprecated in NumPy 1.20; for more details and guidance: https://numpy.org/devdocs/release/1.20.0-notes.html#deprecations\n",
            "  X_test = X_test.astype(np.float)\n"
          ]
        },
        {
          "output_type": "stream",
          "name": "stdout",
          "text": [
            "X_train max value: 1.0\n",
            "X_train min value: 0.0\n"
          ]
        },
        {
          "output_type": "stream",
          "name": "stderr",
          "text": [
            "/usr/local/lib/python3.10/dist-packages/sklearn/preprocessing/_encoders.py:868: FutureWarning: `sparse` was renamed to `sparse_output` in version 1.2 and will be removed in 1.4. `sparse_output` is ignored unless you leave `sparse` to its default value.\n",
            "  warnings.warn(\n",
            "/usr/local/lib/python3.10/dist-packages/sklearn/preprocessing/_encoders.py:868: FutureWarning: `sparse` was renamed to `sparse_output` in version 1.2 and will be removed in 1.4. `sparse_output` is ignored unless you leave `sparse` to its default value.\n",
            "  warnings.warn(\n"
          ]
        },
        {
          "output_type": "stream",
          "name": "stdout",
          "text": [
            "Train dataset: (48000, 784)\n",
            "Validation dataset: (12000, 784)\n",
            "epoch:0 loss:6.575589766024469\n",
            "epoch:1 loss:3.950931730901498\n",
            "epoch:2 loss:3.4207170114255057\n",
            "epoch:3 loss:3.214759684319335\n",
            "epoch:4 loss:2.989497367402604\n",
            "epoch:5 loss:2.8629512850755225\n",
            "epoch:6 loss:2.8291082898263165\n",
            "epoch:7 loss:2.754253855001777\n",
            "epoch:8 loss:2.7043477660990924\n",
            "epoch:9 loss:2.6255415595945655\n",
            "epoch:10 loss:2.6248996437069785\n",
            "epoch:11 loss:2.4500222841857453\n",
            "epoch:12 loss:2.4691285833155248\n",
            "epoch:13 loss:2.3983761240719064\n",
            "epoch:14 loss:2.360108857493299\n",
            "epoch:15 loss:2.3530455287338343\n",
            "epoch:16 loss:2.3034159298358317\n",
            "epoch:17 loss:2.285531343508817\n",
            "epoch:18 loss:2.2666723142901417\n",
            "epoch:19 loss:2.2515452805730325\n",
            "epoch:20 loss:2.2430957500316824\n",
            "epoch:21 loss:2.178075025874957\n",
            "epoch:22 loss:2.1256814560767214\n",
            "epoch:23 loss:2.0979800875886783\n",
            "epoch:24 loss:2.0958429661211415\n",
            "[5 9 4 ... 1 2 6]\n",
            "Accuracy: 0.9383333333333334\n"
          ]
        },
        {
          "output_type": "display_data",
          "data": {
            "text/plain": [
              "<Figure size 640x480 with 1 Axes>"
            ],
            "image/png": "[encoded data removed]"
          },
          "metadata": {}
        }
      ]
    },
    {
      "cell_type": "markdown",
      "source": [
        "[Problem 9] Learning and Estimation "
      ],
      "metadata": {
        "id": "UKut_ko9zuWt"
      }
    },
    {
      "cell_type": "code",
      "source": [
        "NN1 = {0:FC(784, 400, HeInitializer(), Adagrad(0.01), tanh()),\n",
        "      1:FC(400, 200, HeInitializer(), Adagrad(0.01), tanh()),\n",
        "      2:FC(200, 10, SimpleInitializer(0.01), Adagrad(0.01), softmax()),}\n",
        "\n",
        "NN2 = {0:FC(784, 500, HeInitializer(), Adagrad(0.01), tanh()),\n",
        "      1:FC(500, 300, HeInitializer(), Adagrad(0.01), tanh()),\n",
        "      2:FC(300, 100, HeInitializer(), Adagrad(0.01), tanh()),\n",
        "      3:FC(100, 10, SimpleInitializer(0.01), Adagrad(0.01), softmax()),}\n",
        "\n",
        "clf_3_layer = ScratchDNNClassifier(NN = NN2, n_epoch = 15, n_batch=20, verbose=True)\n",
        "clf_3_layer.fit(X_train, y_train_one_hot)\n",
        "pred1 = clf_3_layer.predict(X_val)\n",
        "acc1 = accuracy_score(y_val, pred1)\n",
        "print(\"Accuracy:\", acc1)\n",
        "fig = plt.subplots()\n",
        "plt.title(\"Loss learning graph\")\n",
        "plt.xlabel(\"epoch\")\n",
        "plt.ylabel('Loss')\n",
        "plt.plot(clf_3_layer.log_loss)\n",
        "plt.show()\n",
        "\n",
        "fig = plt.subplots()\n",
        "plt.title(\"Accuracy learning graph\")\n",
        "plt.xlabel(\"epoch\")\n",
        "plt.ylabel('Loss')\n",
        "plt.plot(clf_3_layer.log_acc)\n",
        "plt.show()\n"
      ],
      "metadata": {
        "colab": {
          "base_uri": "https://localhost:8080/",
          "height": 1000
        },
        "id": "p5xj-1MUv_M_",
        "outputId": "f40bd2fd-5cb7-4909-95d0-027cb74ecefa"
      },
      "execution_count": 18,
      "outputs": [
        {
          "output_type": "stream",
          "name": "stdout",
          "text": [
            "epoch:0 loss:15.820277924069348 acc:0.6151458333333333\n",
            "epoch:1 loss:14.136721369365517 acc:0.6195625\n",
            "epoch:2 loss:13.792776395046147 acc:0.6270625\n",
            "epoch:3 loss:13.579742896806545 acc:0.6285416666666667\n",
            "epoch:4 loss:13.469301011812684 acc:0.6318125\n",
            "epoch:5 loss:13.357705070014195 acc:0.6336458333333334\n",
            "epoch:6 loss:13.297595737605903 acc:0.6344166666666666\n",
            "epoch:7 loss:13.228984956220847 acc:0.6374583333333333\n",
            "epoch:8 loss:13.186382721993855 acc:0.6370208333333334\n",
            "epoch:9 loss:13.159966156466727 acc:0.6382708333333333\n",
            "epoch:10 loss:13.0882411958695 acc:0.6395208333333333\n",
            "epoch:11 loss:13.060742212981875 acc:0.6388541666666666\n",
            "epoch:12 loss:13.00597590843972 acc:0.6415416666666667\n",
            "epoch:13 loss:12.955753809264397 acc:0.6415208333333333\n",
            "epoch:14 loss:12.94976958571626 acc:0.64075\n",
            "Accuracy: 0.6224166666666666\n"
          ]
        },
        {
          "output_type": "display_data",
          "data": {
            "text/plain": [
              "<Figure size 640x480 with 1 Axes>"
            ],
            "image/png": "[encoded data removed]"
          },
          "metadata": {}
        },
        {
          "output_type": "display_data",
          "data": {
            "text/plain": [
              "<Figure size 640x480 with 1 Axes>"
            ],
            "image/png": "[encoded data removed]"
          },
          "metadata": {}
        }
      ]
    }
  ]
}