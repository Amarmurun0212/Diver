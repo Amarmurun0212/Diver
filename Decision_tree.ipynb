{
  "nbformat": 4,
  "nbformat_minor": 0,
  "metadata": {
    "colab": {
      "provenance": [],
      "authorship_tag": "ABX9TyMmALC4NSZZWQVOMK3B5Qtf",
      "include_colab_link": true
    },
    "kernelspec": {
      "name": "python3",
      "display_name": "Python 3"
    },
    "language_info": {
      "name": "python"
    }
  },
  "cells": [
    {
      "cell_type": "markdown",
      "metadata": {
        "id": "view-in-github",
        "colab_type": "text"
      },
      "source": [
        "<a href=\"https://colab.research.google.com/github/Amarmurun0212/Diver/blob/main/Decision_tree.ipynb\" target=\"_parent\"><img src=\"https://colab.research.google.com/assets/colab-badge.svg\" alt=\"Open In Colab\"/></a>"
      ]
    },
    {
      "cell_type": "code",
      "execution_count": 17,
      "metadata": {
        "id": "r7taSsYByWjW"
      },
      "outputs": [],
      "source": [
        "import enum\n",
        "import statistics\n",
        "import numpy as np\n",
        "import pandas as pd\n",
        "import matplotlib.pyplot as plt\n",
        "from sklearn.datasets import load_iris\n",
        "from sklearn.model_selection import train_test_split\n",
        "import collections\n",
        "from sklearn.metrics import accuracy_score, precision_score, recall_score\n",
        "from sklearn.tree import DecisionTreeClassifier\n",
        "from sklearn.preprocessing import StandardScaler\n",
        "import matplotlib.colors\n",
        "\n",
        "\n",
        "\n",
        "#problem 1-4\n",
        "class ScratchDecesionTreeClassifierDepth1():\n",
        "    \"\"\"\n",
        "    Scratch implementation of a decision tree classifier of depth 1\n",
        "\n",
        "    Parameters\n",
        "    ----------\n",
        "    verbose : bool\n",
        "      True if you want to output the learning progress\n",
        "    \"\"\"\n",
        "\n",
        "    def __init__(self, verbose=False):\n",
        "        # Record hyperparameters as attributes\n",
        "        self.verbose = verbose\n",
        "\n",
        "    def fit(self, X, y):\n",
        "        \"\"\"\n",
        "        Learn the decision tree classifier\n",
        "\n",
        "        Parameters\n",
        "        ----------\n",
        "        X : ndarray, shape (n_samples, n_features)\n",
        "           Features of training data\n",
        "        y : ndarray, shape (n_samples,) of the following form\n",
        "            Label value of training data\n",
        "        \"\"\"\n",
        "\n",
        "        self.gain = 0\n",
        "        for feature_index in range(X.shape[1]):\n",
        "            self.thresholds = np.unique(X[:,feature_index])\n",
        "            for threshold in self.thresholds:\n",
        "                _gain = self._calc_ig(X, feature_index, y, threshold)\n",
        "                if _gain > self.gain:\n",
        "                    self.l_label = collections.Counter(y[X[:,feature_index] < threshold]).most_common()[0][0]\n",
        "                    self.r_label = collections.Counter(y[X[:,feature_index] >= threshold]).most_common()[0][0]\n",
        "                    self.feature = feature_index\n",
        "                    self.threshold = threshold\n",
        "                    self.gain = _gain\n",
        "                    if self.verbose:\n",
        "                        print('feature',self.feature,'threshold',self.threshold,'gain',self.gain)\n",
        "\n",
        "    def predict(self, X):\n",
        "        \"\"\"\n",
        "        Estimate the label using a decision tree classifier\n",
        "        \"\"\"\n",
        "        prediction = np.where(X[:,self.feature] < self.threshold,self.l_label,self.r_label)\n",
        "        return prediction\n",
        "    \n",
        "    def _calc_gini(self,y):\n",
        "        \"\"\"\n",
        "        Calculate Gini Impurity\n",
        "\n",
        "        Parameters\n",
        "        --------------\n",
        "        y : ndarray, shape (n_samples,) of the following form\n",
        "            Label value of training data\n",
        "        \"\"\"\n",
        "        labels, counts = np.unique(y, return_counts=True)\n",
        "        _gini = 0\n",
        "        for label in labels:\n",
        "            _gini += (counts[labels==label]/np.sum(counts))**2\n",
        "        gini = 1 - _gini\n",
        "        return gini\n",
        "    \n",
        "    def _calc_ig(self,X,feature_index,y,threshold):\n",
        "        \"\"\"\n",
        "        Calculate Information gain\n",
        "\n",
        "        Parameters\n",
        "        --------------\n",
        "        X : nd array, shape (n_samples, feature_size) of the following form\n",
        "            feature values of training data\n",
        "        feature_index : int\n",
        "            feature number\n",
        "        y : nd array, shape (n_samples,) of the following form\n",
        "            Label value of training data\n",
        "        threshold : int\n",
        "            threshold value\n",
        "        \"\"\"\n",
        "\n",
        "        labels_l = y[X[:,feature_index] < threshold]\n",
        "        labels_r = y[X[:,feature_index] >= threshold]\n",
        "        gain_l = (len(labels_l)/(len(labels_l)+len(labels_r)))*self._calc_gini(labels_l)\n",
        "        gain_r = (len(labels_r)/(len(labels_l)+len(labels_r)))*self._calc_gini(labels_r)\n",
        "        gain = self._calc_gini(y) -gain_l -gain_r\n",
        "        return gain"
      ]
    },
    {
      "cell_type": "code",
      "source": [
        "class Node():\n",
        "    \"\"\"\n",
        "    A class that composes and separates the nodes of a decision tree.\n",
        "\n",
        "    Parameters:\n",
        "    ---------------\n",
        "    verbose : bool\n",
        "        True if you want to output the learning progress\n",
        "    max_depth = int\n",
        "        Maximum training depth of decision tree\n",
        "    \"\"\"\n",
        "    def __init__(self, max_depth = None, verbose = False):\n",
        "        # Record hyperparameters as attributes\n",
        "        self.verbose = verbose\n",
        "        self.max_depth = max_depth\n",
        "        self.feature = None\n",
        "\n",
        "    def _separate(self, X, y, depth):\n",
        "        \"\"\"\n",
        "        Split nodes using the CART method.\n",
        "        Parameters:\n",
        "        ---------------\n",
        "        X : ndarray, shape (n_samples, n_features)\n",
        "            Features of training data\n",
        "        y : ndarray, shape (n_samples,) of the following form\n",
        "            Label value of training data\n",
        "        depth : int\n",
        "            the depth of node\n",
        "        \"\"\"\n",
        "        self.depth = depth\n",
        "        features = X.shape[1]\n",
        "\n",
        "        if len(np.unique(y))  == 1:\n",
        "            self.label = np.unique(y)[0]\n",
        "            return\n",
        "        \n",
        "        if self.depth == self.max_depth:\n",
        "            self.label = statistics.mode(y)\n",
        "            return\n",
        "        \n",
        "        self.gain = 0\n",
        "\n",
        "        for feature_number in range(features):\n",
        "            thresholds = np.unique(X[:,feature_number])\n",
        "            for threshold_value in thresholds[1:]:\n",
        "                labels_l = y[X[:,feature_number] < threshold_value]\n",
        "                labels_r = y[X[:,feature_number] >= threshold_value]\n",
        "\n",
        "                gain_l = (len(labels_l)/(len(labels_l)+len(labels_r)))*self._calc_gini(labels_l)\n",
        "                gain_r = (len(labels_r)/(len(labels_l)+len(labels_r)))*self._calc_gini(labels_r)\n",
        "                gain = self._calc_gini(y) -gain_l -gain_r\n",
        "\n",
        "                if gain > self.gain:\n",
        "                    self.feature = feature_number\n",
        "                    self.threshold = threshold_value\n",
        "                    self.gain = gain\n",
        "\n",
        "        if self.verbose:\n",
        "            print(\"depth\", self.depth, 'feature',self.feature,'threshold',self.threshold,'gain',self.gain)\n",
        "        \n",
        "        l_X = X[X[:,self.feature] < self.threshold]\n",
        "        l_y = y[X[:,self.feature] < self.threshold]\n",
        "        self.left = Node(self.max_depth, self.verbose)\n",
        "        self.left._separate(l_X, l_y, depth + 1)\n",
        "\n",
        "\n",
        "        r_X = X[X[:,self.feature] >= self.threshold]\n",
        "        r_y = y[X[:,self.feature] >= self.threshold]\n",
        "        self.right = Node(self.max_depth, self.verbose)\n",
        "        self.right._separate(r_X, r_y, depth + 1)\n",
        "    \n",
        "    def _calc_gini(self, y):\n",
        "        \"\"\"\n",
        "        Calculate Gini Impurity\n",
        "\n",
        "        Parameters\n",
        "        --------------\n",
        "        X : ndarray, shape (n_samples,) of the following form\n",
        "            Features of training data\n",
        "        \"\"\"\n",
        "        labels, counts = np.unique(y, return_counts=True)\n",
        "        _gini = 0\n",
        "        for label in labels:\n",
        "            _gini += (counts[labels==label]/np.sum(counts))**2\n",
        "        gini = 1 - _gini\n",
        "        return gini\n",
        "    \n",
        "    def _predict(self, X):\n",
        "        \"\"\"\n",
        "        Estimate label\n",
        "        \"\"\"\n",
        "        if self.feature == None or self.depth == self.max_depth:\n",
        "            return self.label\n",
        "        else:\n",
        "            if X[self.feature] < self.threshold:\n",
        "                return self.left._predict(X)\n",
        "            else:\n",
        "                return self.right._predict(X)"
      ],
      "metadata": {
        "id": "5v8S8UXl0evu"
      },
      "execution_count": 18,
      "outputs": []
    },
    {
      "cell_type": "code",
      "source": [
        "class ScratchDecisionTreeClassifier():\n",
        "    '''\n",
        "    Scratch implementation of a decision tree classifier of depth n\n",
        "\n",
        "    Parameters:\n",
        "    ---------------\n",
        "    verbose : bool\n",
        "        True if you want to output the learning progress\n",
        "    max_depth = int\n",
        "        Maximum training depth of decision tree\n",
        "    '''\n",
        "\n",
        "    def __init__(self, max_depth = 1, verbose = False):\n",
        "        # Record hyperparameters as attributes\n",
        "        self.verbose = verbose\n",
        "        self.max_depth = max_depth\n",
        "    \n",
        "    def fit(self, X, y):\n",
        "        \"\"\"\n",
        "        Learn the decision tree classifier\n",
        "        Parameters\n",
        "        ----------\n",
        "        X : ndarray, shape (n_samples, n_features)\n",
        "            Features of training data\n",
        "        y : ndarray, shape (n_samples, )\n",
        "            Label values of training data\n",
        "        \"\"\"\n",
        "\n",
        "        self.depth = 0\n",
        "        self.root = Node(self.max_depth, self.verbose)\n",
        "        self.root._separate(X, y, self.depth)\n",
        "\n",
        "    def predict(self, X):\n",
        "        \"\"\"\"\n",
        "        Estimate labels using a decision tree classifier\n",
        "        \"\"\"\n",
        "        y_pred = np.zeros(len(X))\n",
        "        \n",
        "        for i, x in enumerate(X):\n",
        "            y_pred[i] = self.root._predict(x)\n",
        "        return y_pred"
      ],
      "metadata": {
        "id": "gufXiBuR0h9m"
      },
      "execution_count": 19,
      "outputs": []
    },
    {
      "cell_type": "code",
      "source": [
        "def decision_region(X,y,slr):\n",
        "    mesh_f0, mesh_f1  = np.meshgrid(\n",
        "        np.arange(np.min(X[:,0]), np.max(X[:,0]), 0.01), \n",
        "        np.arange(np.min(X[:,1]), np.max(X[:,1]), 0.01)\n",
        "    )\n",
        "    mesh = np.c_[np.ravel(mesh_f0),np.ravel(mesh_f1)]\n",
        "    print(\"mesh shape:{}\".format(mesh.shape))\n",
        "    y_pred = slr.predict(mesh).reshape(mesh_f0.shape)\n",
        "    plt.title('decision region')\n",
        "    plt.xlabel('feature0')\n",
        "    plt.ylabel('feature1')\n",
        "    plt.contourf(mesh_f0, mesh_f1, y_pred,cmap=matplotlib.colors.ListedColormap(['pink', 'skyblue']))\n",
        "    plt.contour(mesh_f0, mesh_f1, y_pred,colors='red')\n",
        "    plt.scatter(X[y==0][:, 0], X[y==0][:, 1],label='0')\n",
        "    plt.scatter(X[y==1][:, 0], X[y==1][:, 1],label='1')\n",
        "    plt.legend()\n",
        "    plt.show()"
      ],
      "metadata": {
        "id": "oYPlBAb4077W"
      },
      "execution_count": 23,
      "outputs": []
    },
    {
      "cell_type": "code",
      "source": [
        "#Pro5 Learning and Estimation\n",
        "iris = load_iris()\n",
        "X = iris.data[:100,:]\n",
        "y = iris.target[:100]\n",
        "\n",
        "X_train, X_test, y_train, y_test = train_test_split(X,y,train_size=0.8,random_state=0)\n",
        "\n",
        "scaler = StandardScaler()\n",
        "\n",
        "X_train = scaler.fit_transform(X_train)\n",
        "X_test = scaler.fit_transform(X_test)\n",
        "\n",
        "clf = ScratchDecesionTreeClassifierDepth1(verbose = True)\n",
        "clf.fit(X_train,y_train)\n",
        "\n",
        "prediction = clf.predict(X_test)\n",
        "\n",
        "acc = accuracy_score(y_test, prediction)\n",
        "precision = precision_score(y_test, prediction, average='micro')\n",
        "recall = recall_score(y_test, prediction, average='micro')\n",
        "\n",
        "print('Scratch Desicion tree: Accuracy', acc, 'Precision ', precision, 'Recall ',recall)\n",
        "\n",
        "dtc = DecisionTreeClassifier(max_depth=1)\n",
        "dtc.fit(X_train, y_train)\n",
        "\n",
        "pred = dtc.predict(X_test)\n",
        "acc = accuracy_score(y_test, pred)\n",
        "precision = precision_score(y_test, pred, average='micro')\n",
        "recall = recall_score(y_test, pred, average='micro')\n",
        "\n",
        "print('Depth = 1 Sklearn Desicion tree: Accuracy', acc, 'Precision ', precision, 'Recall ',recall)"
      ],
      "metadata": {
        "colab": {
          "base_uri": "https://localhost:8080/"
        },
        "id": "6wqiixUF1CfW",
        "outputId": "4063d267-2b7c-4994-a692-689efd2557da"
      },
      "execution_count": 28,
      "outputs": [
        {
          "output_type": "stream",
          "name": "stdout",
          "text": [
            "feature 0 threshold -1.5975414578074663 gain [0.01282051]\n",
            "feature 0 threshold -1.435765107649749 gain [0.01948052]\n",
            "feature 0 threshold -1.2739887574920306 gain [0.04054054]\n",
            "feature 0 threshold -1.1122124073343136 gain [0.04794521]\n",
            "feature 0 threshold -0.950436057176595 gain [0.07142857]\n",
            "feature 0 threshold -0.7886597070188778 gain [0.08666667]\n",
            "feature 0 threshold -0.6268833568611607 gain [0.12695925]\n",
            "feature 0 threshold -0.4651070067034421 gain [0.20572745]\n",
            "feature 0 threshold -0.303330656545725 gain [0.23142857]\n",
            "feature 0 threshold -0.14155430638800642 gain [0.24747475]\n",
            "feature 0 threshold 0.02022204376971069 gain [0.30050031]\n",
            "feature 2 threshold -0.8121921245041062 gain [0.38888889]\n",
            "feature 2 threshold -0.672610234148943 gain [0.47560976]\n",
            "feature 2 threshold 0.0950901628044546 gain [0.5]\n",
            "Scratch Desicion tree: Accuracy 1.0 Precision  1.0 Recall  1.0\n",
            "Depth = 1 Sklearn Desicion tree: Accuracy 1.0 Precision  1.0 Recall  1.0\n"
          ]
        }
      ]
    },
    {
      "cell_type": "markdown",
      "source": [
        "PRO6. Visualization of decision area"
      ],
      "metadata": {
        "id": "8fA64OBq1HNn"
      }
    },
    {
      "cell_type": "code",
      "source": [
        "X = iris.data[:100,:2]\n",
        "y = iris.target[:100]\n",
        "(X_train, X_test, y_train, y_test) = train_test_split(X, y, test_size=0.2)\n",
        "scaler = StandardScaler()\n",
        "X_train = scaler.fit_transform(X_train)\n",
        "X_test = scaler.fit_transform(X_test)\n",
        "clf = ScratchDecesionTreeClassifierDepth1(verbose = True)\n",
        "clf.fit(X_train,y_train)\n",
        "decision_region(X_test, y_test, clf)\n"
      ],
      "metadata": {
        "colab": {
          "base_uri": "https://localhost:8080/",
          "height": 703
        },
        "id": "DqJWXWwt1H4W",
        "outputId": "2412d683-279c-4150-b8c7-fbaa3c42d790"
      },
      "execution_count": 25,
      "outputs": [
        {
          "output_type": "stream",
          "name": "stdout",
          "text": [
            "feature 0 threshold -1.6399145414216896 gain [0.00571203]\n",
            "feature 0 threshold -1.489636003834365 gain [0.01758117]\n",
            "feature 0 threshold -1.3393574662470402 gain [0.02375]\n",
            "feature 0 threshold -1.1890789286597143 gain [0.05013889]\n",
            "feature 0 threshold -1.0388003910723898 gain [0.06446429]\n",
            "feature 0 threshold -0.8885218534850636 gain [0.0957197]\n",
            "feature 0 threshold -0.738243315897739 gain [0.12176587]\n",
            "feature 0 threshold -0.5879647783104144 gain [0.14184091]\n",
            "feature 0 threshold -0.4376862407230883 gain [0.20716393]\n",
            "feature 0 threshold -0.28740770313576364 gain [0.23573413]\n",
            "feature 0 threshold -0.13712916554843765 gain [0.25102273]\n",
            "feature 0 threshold 0.013149372038887004 gain [0.33949422]\n",
            "mesh shape:(174858, 2)\n"
          ]
        },
        {
          "output_type": "display_data",
          "data": {
            "text/plain": [
              "<Figure size 640x480 with 1 Axes>"
            ],
            "image/png": "[encoded data removed]"
          },
          "metadata": {}
        }
      ]
    },
    {
      "cell_type": "markdown",
      "source": [
        "(Advanced exercise) Creating a decision tree classifier class with depth 2"
      ],
      "metadata": {
        "id": "3cOvK7RR1PXO"
      }
    },
    {
      "cell_type": "code",
      "source": [
        "clf2 = ScratchDecisionTreeClassifier(max_depth= 2, verbose = True)\n",
        "clf2.fit(X_train, y_train)\n",
        "\n",
        "pred = clf2.predict(X_test)\n",
        "print(pred)\n",
        "print(y_test)\n",
        "acc = accuracy_score(y_test, pred)\n",
        "precision = precision_score(y_test, pred, average='micro')\n",
        "recall = recall_score(y_test, pred, average='micro')\n",
        "print('Depth = 2 Scratch Desicion tree: Accuracy ',acc, 'Precision ', precision,'Recall', recall)\n"
      ],
      "metadata": {
        "colab": {
          "base_uri": "https://localhost:8080/"
        },
        "id": "2avfSoSA1QGI",
        "outputId": "220761d9-d2d6-40f3-b7c7-e27a2e1dcd86"
      },
      "execution_count": 26,
      "outputs": [
        {
          "output_type": "stream",
          "name": "stdout",
          "text": [
            "depth 0 feature 0 threshold 0.013149372038887004 gain [0.33949422]\n",
            "depth 1 feature 1 threshold -0.24095992131279825 gain [0.09904819]\n",
            "depth 1 feature 1 threshold 0.8066919104819708 gain [0.18408941]\n",
            "[1. 0. 1. 1. 1. 1. 0. 1. 0. 1. 1. 0. 1. 0. 0. 1. 1. 1. 0. 1.]\n",
            "[1 0 1 1 1 1 0 1 0 1 1 0 1 0 0 1 1 0 0 1]\n",
            "Depth = 2 Scratch Desicion tree: Accuracy  0.95 Precision  0.95 Recall 0.95\n"
          ]
        }
      ]
    },
    {
      "cell_type": "markdown",
      "source": [
        "(Advanced exercise) Creating a decision tree classifier class with unlimited depth"
      ],
      "metadata": {
        "id": "DfCtpS6k1Uwt"
      }
    },
    {
      "cell_type": "code",
      "source": [
        "clf = ScratchDecisionTreeClassifier(max_depth= None, verbose = True)\n",
        "clf.fit(X_train, y_train)\n",
        "\n",
        "pred = clf.predict(X_test)\n",
        "print(pred)\n",
        "print(y_test)\n",
        "acc = accuracy_score(y_test, pred)\n",
        "precision = precision_score(y_test, pred, average='micro')\n",
        "recall = recall_score(y_test, pred, average='micro')\n",
        "print('Depth = None Scratch Desicion tree: Accuracy', acc, 'Precision ', precision, 'Recall ',recall)"
      ],
      "metadata": {
        "colab": {
          "base_uri": "https://localhost:8080/"
        },
        "id": "itfr-ltJ1Wou",
        "outputId": "3adcb8aa-ec0a-4526-9ea2-22fd02dea635"
      },
      "execution_count": 27,
      "outputs": [
        {
          "output_type": "stream",
          "name": "stdout",
          "text": [
            "depth 0 feature 0 threshold 0.013149372038887004 gain [0.33949422]\n",
            "depth 1 feature 1 threshold -0.24095992131279825 gain [0.09904819]\n",
            "depth 2 feature 0 threshold -0.738243315897739 gain [0.375]\n",
            "depth 1 feature 1 threshold 0.8066919104819708 gain [0.18408941]\n",
            "[1. 0. 1. 1. 0. 1. 0. 1. 0. 1. 1. 0. 1. 0. 0. 1. 1. 0. 0. 1.]\n",
            "[1 0 1 1 1 1 0 1 0 1 1 0 1 0 0 1 1 0 0 1]\n",
            "Depth = None Scratch Desicion tree: Accuracy 0.95 Precision  0.95 Recall  0.95\n"
          ]
        }
      ]
    }
  ]
}