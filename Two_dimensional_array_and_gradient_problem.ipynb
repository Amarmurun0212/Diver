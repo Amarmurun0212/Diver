{
  "nbformat": 4,
  "nbformat_minor": 0,
  "metadata": {
    "colab": {
      "provenance": [],
      "authorship_tag": "ABX9TyNfHBFBLr2hTGD1I4oM21oy",
      "include_colab_link": true
    },
    "kernelspec": {
      "name": "python3",
      "display_name": "Python 3"
    },
    "language_info": {
      "name": "python"
    }
  },
  "cells": [
    {
      "cell_type": "markdown",
      "metadata": {
        "id": "view-in-github",
        "colab_type": "text"
      },
      "source": [
        "<a href=\"https://colab.research.google.com/github/Amarmurun0212/Diver/blob/main/Two_dimensional_array_and_gradient_problem.ipynb\" target=\"_parent\"><img src=\"https://colab.research.google.com/assets/colab-badge.svg\" alt=\"Open In Colab\"/></a>"
      ]
    },
    {
      "cell_type": "markdown",
      "source": [
        "Two-dimensional array and gradient problem"
      ],
      "metadata": {
        "id": "CE7JebC8nERu"
      }
    },
    {
      "cell_type": "markdown",
      "source": [
        "[Problem 1] Linear function"
      ],
      "metadata": {
        "id": "XW3eDSwJnL7V"
      }
    },
    {
      "cell_type": "code",
      "source": [
        "import numpy as np\n",
        "x = np.arange(-50,50,0.1)\n",
        "y = x/2 + 1\n",
        "print(y)"
      ],
      "metadata": {
        "colab": {
          "base_uri": "https://localhost:8080/"
        },
        "id": "oums-UrjnHvs",
        "outputId": "92952b00-7ae0-4dec-e256-4fa641d4995e"
      },
      "execution_count": 2,
      "outputs": [
        {
          "output_type": "stream",
          "name": "stdout",
          "text": [
            "[-2.40000000e+01 -2.39500000e+01 -2.39000000e+01 -2.38500000e+01\n",
            " -2.38000000e+01 -2.37500000e+01 -2.37000000e+01 -2.36500000e+01\n",
            " -2.36000000e+01 -2.35500000e+01 -2.35000000e+01 -2.34500000e+01\n",
            " -2.34000000e+01 -2.33500000e+01 -2.33000000e+01 -2.32500000e+01\n",
            " -2.32000000e+01 -2.31500000e+01 -2.31000000e+01 -2.30500000e+01\n",
            " -2.30000000e+01 -2.29500000e+01 -2.29000000e+01 -2.28500000e+01\n",
            " -2.28000000e+01 -2.27500000e+01 -2.27000000e+01 -2.26500000e+01\n",
            " -2.26000000e+01 -2.25500000e+01 -2.25000000e+01 -2.24500000e+01\n",
            " -2.24000000e+01 -2.23500000e+01 -2.23000000e+01 -2.22500000e+01\n",
            " -2.22000000e+01 -2.21500000e+01 -2.21000000e+01 -2.20500000e+01\n",
            " -2.20000000e+01 -2.19500000e+01 -2.19000000e+01 -2.18500000e+01\n",
            " -2.18000000e+01 -2.17500000e+01 -2.17000000e+01 -2.16500000e+01\n",
            " -2.16000000e+01 -2.15500000e+01 -2.15000000e+01 -2.14500000e+01\n",
            " -2.14000000e+01 -2.13500000e+01 -2.13000000e+01 -2.12500000e+01\n",
            " -2.12000000e+01 -2.11500000e+01 -2.11000000e+01 -2.10500000e+01\n",
            " -2.10000000e+01 -2.09500000e+01 -2.09000000e+01 -2.08500000e+01\n",
            " -2.08000000e+01 -2.07500000e+01 -2.07000000e+01 -2.06500000e+01\n",
            " -2.06000000e+01 -2.05500000e+01 -2.05000000e+01 -2.04500000e+01\n",
            " -2.04000000e+01 -2.03500000e+01 -2.03000000e+01 -2.02500000e+01\n",
            " -2.02000000e+01 -2.01500000e+01 -2.01000000e+01 -2.00500000e+01\n",
            " -2.00000000e+01 -1.99500000e+01 -1.99000000e+01 -1.98500000e+01\n",
            " -1.98000000e+01 -1.97500000e+01 -1.97000000e+01 -1.96500000e+01\n",
            " -1.96000000e+01 -1.95500000e+01 -1.95000000e+01 -1.94500000e+01\n",
            " -1.94000000e+01 -1.93500000e+01 -1.93000000e+01 -1.92500000e+01\n",
            " -1.92000000e+01 -1.91500000e+01 -1.91000000e+01 -1.90500000e+01\n",
            " -1.90000000e+01 -1.89500000e+01 -1.89000000e+01 -1.88500000e+01\n",
            " -1.88000000e+01 -1.87500000e+01 -1.87000000e+01 -1.86500000e+01\n",
            " -1.86000000e+01 -1.85500000e+01 -1.85000000e+01 -1.84500000e+01\n",
            " -1.84000000e+01 -1.83500000e+01 -1.83000000e+01 -1.82500000e+01\n",
            " -1.82000000e+01 -1.81500000e+01 -1.81000000e+01 -1.80500000e+01\n",
            " -1.80000000e+01 -1.79500000e+01 -1.79000000e+01 -1.78500000e+01\n",
            " -1.78000000e+01 -1.77500000e+01 -1.77000000e+01 -1.76500000e+01\n",
            " -1.76000000e+01 -1.75500000e+01 -1.75000000e+01 -1.74500000e+01\n",
            " -1.74000000e+01 -1.73500000e+01 -1.73000000e+01 -1.72500000e+01\n",
            " -1.72000000e+01 -1.71500000e+01 -1.71000000e+01 -1.70500000e+01\n",
            " -1.70000000e+01 -1.69500000e+01 -1.69000000e+01 -1.68500000e+01\n",
            " -1.68000000e+01 -1.67500000e+01 -1.67000000e+01 -1.66500000e+01\n",
            " -1.66000000e+01 -1.65500000e+01 -1.65000000e+01 -1.64500000e+01\n",
            " -1.64000000e+01 -1.63500000e+01 -1.63000000e+01 -1.62500000e+01\n",
            " -1.62000000e+01 -1.61500000e+01 -1.61000000e+01 -1.60500000e+01\n",
            " -1.60000000e+01 -1.59500000e+01 -1.59000000e+01 -1.58500000e+01\n",
            " -1.58000000e+01 -1.57500000e+01 -1.57000000e+01 -1.56500000e+01\n",
            " -1.56000000e+01 -1.55500000e+01 -1.55000000e+01 -1.54500000e+01\n",
            " -1.54000000e+01 -1.53500000e+01 -1.53000000e+01 -1.52500000e+01\n",
            " -1.52000000e+01 -1.51500000e+01 -1.51000000e+01 -1.50500000e+01\n",
            " -1.50000000e+01 -1.49500000e+01 -1.49000000e+01 -1.48500000e+01\n",
            " -1.48000000e+01 -1.47500000e+01 -1.47000000e+01 -1.46500000e+01\n",
            " -1.46000000e+01 -1.45500000e+01 -1.45000000e+01 -1.44500000e+01\n",
            " -1.44000000e+01 -1.43500000e+01 -1.43000000e+01 -1.42500000e+01\n",
            " -1.42000000e+01 -1.41500000e+01 -1.41000000e+01 -1.40500000e+01\n",
            " -1.40000000e+01 -1.39500000e+01 -1.39000000e+01 -1.38500000e+01\n",
            " -1.38000000e+01 -1.37500000e+01 -1.37000000e+01 -1.36500000e+01\n",
            " -1.36000000e+01 -1.35500000e+01 -1.35000000e+01 -1.34500000e+01\n",
            " -1.34000000e+01 -1.33500000e+01 -1.33000000e+01 -1.32500000e+01\n",
            " -1.32000000e+01 -1.31500000e+01 -1.31000000e+01 -1.30500000e+01\n",
            " -1.30000000e+01 -1.29500000e+01 -1.29000000e+01 -1.28500000e+01\n",
            " -1.28000000e+01 -1.27500000e+01 -1.27000000e+01 -1.26500000e+01\n",
            " -1.26000000e+01 -1.25500000e+01 -1.25000000e+01 -1.24500000e+01\n",
            " -1.24000000e+01 -1.23500000e+01 -1.23000000e+01 -1.22500000e+01\n",
            " -1.22000000e+01 -1.21500000e+01 -1.21000000e+01 -1.20500000e+01\n",
            " -1.20000000e+01 -1.19500000e+01 -1.19000000e+01 -1.18500000e+01\n",
            " -1.18000000e+01 -1.17500000e+01 -1.17000000e+01 -1.16500000e+01\n",
            " -1.16000000e+01 -1.15500000e+01 -1.15000000e+01 -1.14500000e+01\n",
            " -1.14000000e+01 -1.13500000e+01 -1.13000000e+01 -1.12500000e+01\n",
            " -1.12000000e+01 -1.11500000e+01 -1.11000000e+01 -1.10500000e+01\n",
            " -1.10000000e+01 -1.09500000e+01 -1.09000000e+01 -1.08500000e+01\n",
            " -1.08000000e+01 -1.07500000e+01 -1.07000000e+01 -1.06500000e+01\n",
            " -1.06000000e+01 -1.05500000e+01 -1.05000000e+01 -1.04500000e+01\n",
            " -1.04000000e+01 -1.03500000e+01 -1.03000000e+01 -1.02500000e+01\n",
            " -1.02000000e+01 -1.01500000e+01 -1.01000000e+01 -1.00500000e+01\n",
            " -1.00000000e+01 -9.95000000e+00 -9.90000000e+00 -9.85000000e+00\n",
            " -9.80000000e+00 -9.75000000e+00 -9.70000000e+00 -9.65000000e+00\n",
            " -9.60000000e+00 -9.55000000e+00 -9.50000000e+00 -9.45000000e+00\n",
            " -9.40000000e+00 -9.35000000e+00 -9.30000000e+00 -9.25000000e+00\n",
            " -9.20000000e+00 -9.15000000e+00 -9.10000000e+00 -9.05000000e+00\n",
            " -9.00000000e+00 -8.95000000e+00 -8.90000000e+00 -8.85000000e+00\n",
            " -8.80000000e+00 -8.75000000e+00 -8.70000000e+00 -8.65000000e+00\n",
            " -8.60000000e+00 -8.55000000e+00 -8.50000000e+00 -8.45000000e+00\n",
            " -8.40000000e+00 -8.35000000e+00 -8.30000000e+00 -8.25000000e+00\n",
            " -8.20000000e+00 -8.15000000e+00 -8.10000000e+00 -8.05000000e+00\n",
            " -8.00000000e+00 -7.95000000e+00 -7.90000000e+00 -7.85000000e+00\n",
            " -7.80000000e+00 -7.75000000e+00 -7.70000000e+00 -7.65000000e+00\n",
            " -7.60000000e+00 -7.55000000e+00 -7.50000000e+00 -7.45000000e+00\n",
            " -7.40000000e+00 -7.35000000e+00 -7.30000000e+00 -7.25000000e+00\n",
            " -7.20000000e+00 -7.15000000e+00 -7.10000000e+00 -7.05000000e+00\n",
            " -7.00000000e+00 -6.95000000e+00 -6.90000000e+00 -6.85000000e+00\n",
            " -6.80000000e+00 -6.75000000e+00 -6.70000000e+00 -6.65000000e+00\n",
            " -6.60000000e+00 -6.55000000e+00 -6.50000000e+00 -6.45000000e+00\n",
            " -6.40000000e+00 -6.35000000e+00 -6.30000000e+00 -6.25000000e+00\n",
            " -6.20000000e+00 -6.15000000e+00 -6.10000000e+00 -6.05000000e+00\n",
            " -6.00000000e+00 -5.95000000e+00 -5.90000000e+00 -5.85000000e+00\n",
            " -5.80000000e+00 -5.75000000e+00 -5.70000000e+00 -5.65000000e+00\n",
            " -5.60000000e+00 -5.55000000e+00 -5.50000000e+00 -5.45000000e+00\n",
            " -5.40000000e+00 -5.35000000e+00 -5.30000000e+00 -5.25000000e+00\n",
            " -5.20000000e+00 -5.15000000e+00 -5.10000000e+00 -5.05000000e+00\n",
            " -5.00000000e+00 -4.95000000e+00 -4.90000000e+00 -4.85000000e+00\n",
            " -4.80000000e+00 -4.75000000e+00 -4.70000000e+00 -4.65000000e+00\n",
            " -4.60000000e+00 -4.55000000e+00 -4.50000000e+00 -4.45000000e+00\n",
            " -4.40000000e+00 -4.35000000e+00 -4.30000000e+00 -4.25000000e+00\n",
            " -4.20000000e+00 -4.15000000e+00 -4.10000000e+00 -4.05000000e+00\n",
            " -4.00000000e+00 -3.95000000e+00 -3.90000000e+00 -3.85000000e+00\n",
            " -3.80000000e+00 -3.75000000e+00 -3.70000000e+00 -3.65000000e+00\n",
            " -3.60000000e+00 -3.55000000e+00 -3.50000000e+00 -3.45000000e+00\n",
            " -3.40000000e+00 -3.35000000e+00 -3.30000000e+00 -3.25000000e+00\n",
            " -3.20000000e+00 -3.15000000e+00 -3.10000000e+00 -3.05000000e+00\n",
            " -3.00000000e+00 -2.95000000e+00 -2.90000000e+00 -2.85000000e+00\n",
            " -2.80000000e+00 -2.75000000e+00 -2.70000000e+00 -2.65000000e+00\n",
            " -2.60000000e+00 -2.55000000e+00 -2.50000000e+00 -2.45000000e+00\n",
            " -2.40000000e+00 -2.35000000e+00 -2.30000000e+00 -2.25000000e+00\n",
            " -2.20000000e+00 -2.15000000e+00 -2.10000000e+00 -2.05000000e+00\n",
            " -2.00000000e+00 -1.95000000e+00 -1.90000000e+00 -1.85000000e+00\n",
            " -1.80000000e+00 -1.75000000e+00 -1.70000000e+00 -1.65000000e+00\n",
            " -1.60000000e+00 -1.55000000e+00 -1.50000000e+00 -1.45000000e+00\n",
            " -1.40000000e+00 -1.35000000e+00 -1.30000000e+00 -1.25000000e+00\n",
            " -1.20000000e+00 -1.15000000e+00 -1.10000000e+00 -1.05000000e+00\n",
            " -1.00000000e+00 -9.50000000e-01 -9.00000000e-01 -8.50000000e-01\n",
            " -8.00000000e-01 -7.50000000e-01 -7.00000000e-01 -6.50000000e-01\n",
            " -6.00000000e-01 -5.50000000e-01 -5.00000000e-01 -4.50000000e-01\n",
            " -4.00000000e-01 -3.50000000e-01 -3.00000000e-01 -2.50000000e-01\n",
            " -2.00000000e-01 -1.50000000e-01 -1.00000000e-01 -5.00000000e-02\n",
            "  3.41060513e-13  5.00000000e-02  1.00000000e-01  1.50000000e-01\n",
            "  2.00000000e-01  2.50000000e-01  3.00000000e-01  3.50000000e-01\n",
            "  4.00000000e-01  4.50000000e-01  5.00000000e-01  5.50000000e-01\n",
            "  6.00000000e-01  6.50000000e-01  7.00000000e-01  7.50000000e-01\n",
            "  8.00000000e-01  8.50000000e-01  9.00000000e-01  9.50000000e-01\n",
            "  1.00000000e+00  1.05000000e+00  1.10000000e+00  1.15000000e+00\n",
            "  1.20000000e+00  1.25000000e+00  1.30000000e+00  1.35000000e+00\n",
            "  1.40000000e+00  1.45000000e+00  1.50000000e+00  1.55000000e+00\n",
            "  1.60000000e+00  1.65000000e+00  1.70000000e+00  1.75000000e+00\n",
            "  1.80000000e+00  1.85000000e+00  1.90000000e+00  1.95000000e+00\n",
            "  2.00000000e+00  2.05000000e+00  2.10000000e+00  2.15000000e+00\n",
            "  2.20000000e+00  2.25000000e+00  2.30000000e+00  2.35000000e+00\n",
            "  2.40000000e+00  2.45000000e+00  2.50000000e+00  2.55000000e+00\n",
            "  2.60000000e+00  2.65000000e+00  2.70000000e+00  2.75000000e+00\n",
            "  2.80000000e+00  2.85000000e+00  2.90000000e+00  2.95000000e+00\n",
            "  3.00000000e+00  3.05000000e+00  3.10000000e+00  3.15000000e+00\n",
            "  3.20000000e+00  3.25000000e+00  3.30000000e+00  3.35000000e+00\n",
            "  3.40000000e+00  3.45000000e+00  3.50000000e+00  3.55000000e+00\n",
            "  3.60000000e+00  3.65000000e+00  3.70000000e+00  3.75000000e+00\n",
            "  3.80000000e+00  3.85000000e+00  3.90000000e+00  3.95000000e+00\n",
            "  4.00000000e+00  4.05000000e+00  4.10000000e+00  4.15000000e+00\n",
            "  4.20000000e+00  4.25000000e+00  4.30000000e+00  4.35000000e+00\n",
            "  4.40000000e+00  4.45000000e+00  4.50000000e+00  4.55000000e+00\n",
            "  4.60000000e+00  4.65000000e+00  4.70000000e+00  4.75000000e+00\n",
            "  4.80000000e+00  4.85000000e+00  4.90000000e+00  4.95000000e+00\n",
            "  5.00000000e+00  5.05000000e+00  5.10000000e+00  5.15000000e+00\n",
            "  5.20000000e+00  5.25000000e+00  5.30000000e+00  5.35000000e+00\n",
            "  5.40000000e+00  5.45000000e+00  5.50000000e+00  5.55000000e+00\n",
            "  5.60000000e+00  5.65000000e+00  5.70000000e+00  5.75000000e+00\n",
            "  5.80000000e+00  5.85000000e+00  5.90000000e+00  5.95000000e+00\n",
            "  6.00000000e+00  6.05000000e+00  6.10000000e+00  6.15000000e+00\n",
            "  6.20000000e+00  6.25000000e+00  6.30000000e+00  6.35000000e+00\n",
            "  6.40000000e+00  6.45000000e+00  6.50000000e+00  6.55000000e+00\n",
            "  6.60000000e+00  6.65000000e+00  6.70000000e+00  6.75000000e+00\n",
            "  6.80000000e+00  6.85000000e+00  6.90000000e+00  6.95000000e+00\n",
            "  7.00000000e+00  7.05000000e+00  7.10000000e+00  7.15000000e+00\n",
            "  7.20000000e+00  7.25000000e+00  7.30000000e+00  7.35000000e+00\n",
            "  7.40000000e+00  7.45000000e+00  7.50000000e+00  7.55000000e+00\n",
            "  7.60000000e+00  7.65000000e+00  7.70000000e+00  7.75000000e+00\n",
            "  7.80000000e+00  7.85000000e+00  7.90000000e+00  7.95000000e+00\n",
            "  8.00000000e+00  8.05000000e+00  8.10000000e+00  8.15000000e+00\n",
            "  8.20000000e+00  8.25000000e+00  8.30000000e+00  8.35000000e+00\n",
            "  8.40000000e+00  8.45000000e+00  8.50000000e+00  8.55000000e+00\n",
            "  8.60000000e+00  8.65000000e+00  8.70000000e+00  8.75000000e+00\n",
            "  8.80000000e+00  8.85000000e+00  8.90000000e+00  8.95000000e+00\n",
            "  9.00000000e+00  9.05000000e+00  9.10000000e+00  9.15000000e+00\n",
            "  9.20000000e+00  9.25000000e+00  9.30000000e+00  9.35000000e+00\n",
            "  9.40000000e+00  9.45000000e+00  9.50000000e+00  9.55000000e+00\n",
            "  9.60000000e+00  9.65000000e+00  9.70000000e+00  9.75000000e+00\n",
            "  9.80000000e+00  9.85000000e+00  9.90000000e+00  9.95000000e+00\n",
            "  1.00000000e+01  1.00500000e+01  1.01000000e+01  1.01500000e+01\n",
            "  1.02000000e+01  1.02500000e+01  1.03000000e+01  1.03500000e+01\n",
            "  1.04000000e+01  1.04500000e+01  1.05000000e+01  1.05500000e+01\n",
            "  1.06000000e+01  1.06500000e+01  1.07000000e+01  1.07500000e+01\n",
            "  1.08000000e+01  1.08500000e+01  1.09000000e+01  1.09500000e+01\n",
            "  1.10000000e+01  1.10500000e+01  1.11000000e+01  1.11500000e+01\n",
            "  1.12000000e+01  1.12500000e+01  1.13000000e+01  1.13500000e+01\n",
            "  1.14000000e+01  1.14500000e+01  1.15000000e+01  1.15500000e+01\n",
            "  1.16000000e+01  1.16500000e+01  1.17000000e+01  1.17500000e+01\n",
            "  1.18000000e+01  1.18500000e+01  1.19000000e+01  1.19500000e+01\n",
            "  1.20000000e+01  1.20500000e+01  1.21000000e+01  1.21500000e+01\n",
            "  1.22000000e+01  1.22500000e+01  1.23000000e+01  1.23500000e+01\n",
            "  1.24000000e+01  1.24500000e+01  1.25000000e+01  1.25500000e+01\n",
            "  1.26000000e+01  1.26500000e+01  1.27000000e+01  1.27500000e+01\n",
            "  1.28000000e+01  1.28500000e+01  1.29000000e+01  1.29500000e+01\n",
            "  1.30000000e+01  1.30500000e+01  1.31000000e+01  1.31500000e+01\n",
            "  1.32000000e+01  1.32500000e+01  1.33000000e+01  1.33500000e+01\n",
            "  1.34000000e+01  1.34500000e+01  1.35000000e+01  1.35500000e+01\n",
            "  1.36000000e+01  1.36500000e+01  1.37000000e+01  1.37500000e+01\n",
            "  1.38000000e+01  1.38500000e+01  1.39000000e+01  1.39500000e+01\n",
            "  1.40000000e+01  1.40500000e+01  1.41000000e+01  1.41500000e+01\n",
            "  1.42000000e+01  1.42500000e+01  1.43000000e+01  1.43500000e+01\n",
            "  1.44000000e+01  1.44500000e+01  1.45000000e+01  1.45500000e+01\n",
            "  1.46000000e+01  1.46500000e+01  1.47000000e+01  1.47500000e+01\n",
            "  1.48000000e+01  1.48500000e+01  1.49000000e+01  1.49500000e+01\n",
            "  1.50000000e+01  1.50500000e+01  1.51000000e+01  1.51500000e+01\n",
            "  1.52000000e+01  1.52500000e+01  1.53000000e+01  1.53500000e+01\n",
            "  1.54000000e+01  1.54500000e+01  1.55000000e+01  1.55500000e+01\n",
            "  1.56000000e+01  1.56500000e+01  1.57000000e+01  1.57500000e+01\n",
            "  1.58000000e+01  1.58500000e+01  1.59000000e+01  1.59500000e+01\n",
            "  1.60000000e+01  1.60500000e+01  1.61000000e+01  1.61500000e+01\n",
            "  1.62000000e+01  1.62500000e+01  1.63000000e+01  1.63500000e+01\n",
            "  1.64000000e+01  1.64500000e+01  1.65000000e+01  1.65500000e+01\n",
            "  1.66000000e+01  1.66500000e+01  1.67000000e+01  1.67500000e+01\n",
            "  1.68000000e+01  1.68500000e+01  1.69000000e+01  1.69500000e+01\n",
            "  1.70000000e+01  1.70500000e+01  1.71000000e+01  1.71500000e+01\n",
            "  1.72000000e+01  1.72500000e+01  1.73000000e+01  1.73500000e+01\n",
            "  1.74000000e+01  1.74500000e+01  1.75000000e+01  1.75500000e+01\n",
            "  1.76000000e+01  1.76500000e+01  1.77000000e+01  1.77500000e+01\n",
            "  1.78000000e+01  1.78500000e+01  1.79000000e+01  1.79500000e+01\n",
            "  1.80000000e+01  1.80500000e+01  1.81000000e+01  1.81500000e+01\n",
            "  1.82000000e+01  1.82500000e+01  1.83000000e+01  1.83500000e+01\n",
            "  1.84000000e+01  1.84500000e+01  1.85000000e+01  1.85500000e+01\n",
            "  1.86000000e+01  1.86500000e+01  1.87000000e+01  1.87500000e+01\n",
            "  1.88000000e+01  1.88500000e+01  1.89000000e+01  1.89500000e+01\n",
            "  1.90000000e+01  1.90500000e+01  1.91000000e+01  1.91500000e+01\n",
            "  1.92000000e+01  1.92500000e+01  1.93000000e+01  1.93500000e+01\n",
            "  1.94000000e+01  1.94500000e+01  1.95000000e+01  1.95500000e+01\n",
            "  1.96000000e+01  1.96500000e+01  1.97000000e+01  1.97500000e+01\n",
            "  1.98000000e+01  1.98500000e+01  1.99000000e+01  1.99500000e+01\n",
            "  2.00000000e+01  2.00500000e+01  2.01000000e+01  2.01500000e+01\n",
            "  2.02000000e+01  2.02500000e+01  2.03000000e+01  2.03500000e+01\n",
            "  2.04000000e+01  2.04500000e+01  2.05000000e+01  2.05500000e+01\n",
            "  2.06000000e+01  2.06500000e+01  2.07000000e+01  2.07500000e+01\n",
            "  2.08000000e+01  2.08500000e+01  2.09000000e+01  2.09500000e+01\n",
            "  2.10000000e+01  2.10500000e+01  2.11000000e+01  2.11500000e+01\n",
            "  2.12000000e+01  2.12500000e+01  2.13000000e+01  2.13500000e+01\n",
            "  2.14000000e+01  2.14500000e+01  2.15000000e+01  2.15500000e+01\n",
            "  2.16000000e+01  2.16500000e+01  2.17000000e+01  2.17500000e+01\n",
            "  2.18000000e+01  2.18500000e+01  2.19000000e+01  2.19500000e+01\n",
            "  2.20000000e+01  2.20500000e+01  2.21000000e+01  2.21500000e+01\n",
            "  2.22000000e+01  2.22500000e+01  2.23000000e+01  2.23500000e+01\n",
            "  2.24000000e+01  2.24500000e+01  2.25000000e+01  2.25500000e+01\n",
            "  2.26000000e+01  2.26500000e+01  2.27000000e+01  2.27500000e+01\n",
            "  2.28000000e+01  2.28500000e+01  2.29000000e+01  2.29500000e+01\n",
            "  2.30000000e+01  2.30500000e+01  2.31000000e+01  2.31500000e+01\n",
            "  2.32000000e+01  2.32500000e+01  2.33000000e+01  2.33500000e+01\n",
            "  2.34000000e+01  2.34500000e+01  2.35000000e+01  2.35500000e+01\n",
            "  2.36000000e+01  2.36500000e+01  2.37000000e+01  2.37500000e+01\n",
            "  2.38000000e+01  2.38500000e+01  2.39000000e+01  2.39500000e+01\n",
            "  2.40000000e+01  2.40500000e+01  2.41000000e+01  2.41500000e+01\n",
            "  2.42000000e+01  2.42500000e+01  2.43000000e+01  2.43500000e+01\n",
            "  2.44000000e+01  2.44500000e+01  2.45000000e+01  2.45500000e+01\n",
            "  2.46000000e+01  2.46500000e+01  2.47000000e+01  2.47500000e+01\n",
            "  2.48000000e+01  2.48500000e+01  2.49000000e+01  2.49500000e+01\n",
            "  2.50000000e+01  2.50500000e+01  2.51000000e+01  2.51500000e+01\n",
            "  2.52000000e+01  2.52500000e+01  2.53000000e+01  2.53500000e+01\n",
            "  2.54000000e+01  2.54500000e+01  2.55000000e+01  2.55500000e+01\n",
            "  2.56000000e+01  2.56500000e+01  2.57000000e+01  2.57500000e+01\n",
            "  2.58000000e+01  2.58500000e+01  2.59000000e+01  2.59500000e+01]\n"
          ]
        }
      ]
    },
    {
      "cell_type": "markdown",
      "source": [
        "[Problem 2] Array combination"
      ],
      "metadata": {
        "id": "bchg_t6Ung41"
      }
    },
    {
      "cell_type": "markdown",
      "source": [
        "Combine the ndarrays created in Problem 1 into an array of the form (1001, 2). Make sure x is in the 0th column and y is in the 1st column."
      ],
      "metadata": {
        "id": "wOLHCct8nnas"
      }
    },
    {
      "cell_type": "code",
      "source": [
        "c=np.stack([x,y], axis=1)\n",
        "c.shape"
      ],
      "metadata": {
        "colab": {
          "base_uri": "https://localhost:8080/"
        },
        "id": "KYh55KcZntPM",
        "outputId": "dd271938-6f17-46d8-e759-179c11e7cfc8"
      },
      "execution_count": 3,
      "outputs": [
        {
          "output_type": "execute_result",
          "data": {
            "text/plain": [
              "(1000, 2)"
            ]
          },
          "metadata": {},
          "execution_count": 3
        }
      ]
    },
    {
      "cell_type": "markdown",
      "source": [
        "[Problem 3] Find the gradient"
      ],
      "metadata": {
        "id": "Hf-9MdbP1r-A"
      }
    },
    {
      "cell_type": "markdown",
      "source": [
        "Find the gradient at each x-coordinate. Here, the gradient is calculated by dividing the change in y by the change in x."
      ],
      "metadata": {
        "id": "gcsgj9Uh1uqZ"
      }
    },
    {
      "cell_type": "code",
      "source": [
        "xGrad = x[1:] - x[:-1]\n",
        "xGrad\n",
        "yGrad = y[1:] - y[:-1]\n",
        "yGrad\n",
        "Gradient = yGrad/xGrad\n",
        "print(Gradient)"
      ],
      "metadata": {
        "colab": {
          "base_uri": "https://localhost:8080/"
        },
        "id": "4QsdBfAW1xbZ",
        "outputId": "cd1f7a6d-7ced-4aed-c079-b12705da05b6"
      },
      "execution_count": 7,
      "outputs": [
        {
          "output_type": "stream",
          "name": "stdout",
          "text": [
            "[0.5 0.5 0.5 0.5 0.5 0.5 0.5 0.5 0.5 0.5 0.5 0.5 0.5 0.5 0.5 0.5 0.5 0.5\n",
            " 0.5 0.5 0.5 0.5 0.5 0.5 0.5 0.5 0.5 0.5 0.5 0.5 0.5 0.5 0.5 0.5 0.5 0.5\n",
            " 0.5 0.5 0.5 0.5 0.5 0.5 0.5 0.5 0.5 0.5 0.5 0.5 0.5 0.5 0.5 0.5 0.5 0.5\n",
            " 0.5 0.5 0.5 0.5 0.5 0.5 0.5 0.5 0.5 0.5 0.5 0.5 0.5 0.5 0.5 0.5 0.5 0.5\n",
            " 0.5 0.5 0.5 0.5 0.5 0.5 0.5 0.5 0.5 0.5 0.5 0.5 0.5 0.5 0.5 0.5 0.5 0.5\n",
            " 0.5 0.5 0.5 0.5 0.5 0.5 0.5 0.5 0.5 0.5 0.5 0.5 0.5 0.5 0.5 0.5 0.5 0.5\n",
            " 0.5 0.5 0.5 0.5 0.5 0.5 0.5 0.5 0.5 0.5 0.5 0.5 0.5 0.5 0.5 0.5 0.5 0.5\n",
            " 0.5 0.5 0.5 0.5 0.5 0.5 0.5 0.5 0.5 0.5 0.5 0.5 0.5 0.5 0.5 0.5 0.5 0.5\n",
            " 0.5 0.5 0.5 0.5 0.5 0.5 0.5 0.5 0.5 0.5 0.5 0.5 0.5 0.5 0.5 0.5 0.5 0.5\n",
            " 0.5 0.5 0.5 0.5 0.5 0.5 0.5 0.5 0.5 0.5 0.5 0.5 0.5 0.5 0.5 0.5 0.5 0.5\n",
            " 0.5 0.5 0.5 0.5 0.5 0.5 0.5 0.5 0.5 0.5 0.5 0.5 0.5 0.5 0.5 0.5 0.5 0.5\n",
            " 0.5 0.5 0.5 0.5 0.5 0.5 0.5 0.5 0.5 0.5 0.5 0.5 0.5 0.5 0.5 0.5 0.5 0.5\n",
            " 0.5 0.5 0.5 0.5 0.5 0.5 0.5 0.5 0.5 0.5 0.5 0.5 0.5 0.5 0.5 0.5 0.5 0.5\n",
            " 0.5 0.5 0.5 0.5 0.5 0.5 0.5 0.5 0.5 0.5 0.5 0.5 0.5 0.5 0.5 0.5 0.5 0.5\n",
            " 0.5 0.5 0.5 0.5 0.5 0.5 0.5 0.5 0.5 0.5 0.5 0.5 0.5 0.5 0.5 0.5 0.5 0.5\n",
            " 0.5 0.5 0.5 0.5 0.5 0.5 0.5 0.5 0.5 0.5 0.5 0.5 0.5 0.5 0.5 0.5 0.5 0.5\n",
            " 0.5 0.5 0.5 0.5 0.5 0.5 0.5 0.5 0.5 0.5 0.5 0.5 0.5 0.5 0.5 0.5 0.5 0.5\n",
            " 0.5 0.5 0.5 0.5 0.5 0.5 0.5 0.5 0.5 0.5 0.5 0.5 0.5 0.5 0.5 0.5 0.5 0.5\n",
            " 0.5 0.5 0.5 0.5 0.5 0.5 0.5 0.5 0.5 0.5 0.5 0.5 0.5 0.5 0.5 0.5 0.5 0.5\n",
            " 0.5 0.5 0.5 0.5 0.5 0.5 0.5 0.5 0.5 0.5 0.5 0.5 0.5 0.5 0.5 0.5 0.5 0.5\n",
            " 0.5 0.5 0.5 0.5 0.5 0.5 0.5 0.5 0.5 0.5 0.5 0.5 0.5 0.5 0.5 0.5 0.5 0.5\n",
            " 0.5 0.5 0.5 0.5 0.5 0.5 0.5 0.5 0.5 0.5 0.5 0.5 0.5 0.5 0.5 0.5 0.5 0.5\n",
            " 0.5 0.5 0.5 0.5 0.5 0.5 0.5 0.5 0.5 0.5 0.5 0.5 0.5 0.5 0.5 0.5 0.5 0.5\n",
            " 0.5 0.5 0.5 0.5 0.5 0.5 0.5 0.5 0.5 0.5 0.5 0.5 0.5 0.5 0.5 0.5 0.5 0.5\n",
            " 0.5 0.5 0.5 0.5 0.5 0.5 0.5 0.5 0.5 0.5 0.5 0.5 0.5 0.5 0.5 0.5 0.5 0.5\n",
            " 0.5 0.5 0.5 0.5 0.5 0.5 0.5 0.5 0.5 0.5 0.5 0.5 0.5 0.5 0.5 0.5 0.5 0.5\n",
            " 0.5 0.5 0.5 0.5 0.5 0.5 0.5 0.5 0.5 0.5 0.5 0.5 0.5 0.5 0.5 0.5 0.5 0.5\n",
            " 0.5 0.5 0.5 0.5 0.5 0.5 0.5 0.5 0.5 0.5 0.5 0.5 0.5 0.5 0.5 0.5 0.5 0.5\n",
            " 0.5 0.5 0.5 0.5 0.5 0.5 0.5 0.5 0.5 0.5 0.5 0.5 0.5 0.5 0.5 0.5 0.5 0.5\n",
            " 0.5 0.5 0.5 0.5 0.5 0.5 0.5 0.5 0.5 0.5 0.5 0.5 0.5 0.5 0.5 0.5 0.5 0.5\n",
            " 0.5 0.5 0.5 0.5 0.5 0.5 0.5 0.5 0.5 0.5 0.5 0.5 0.5 0.5 0.5 0.5 0.5 0.5\n",
            " 0.5 0.5 0.5 0.5 0.5 0.5 0.5 0.5 0.5 0.5 0.5 0.5 0.5 0.5 0.5 0.5 0.5 0.5\n",
            " 0.5 0.5 0.5 0.5 0.5 0.5 0.5 0.5 0.5 0.5 0.5 0.5 0.5 0.5 0.5 0.5 0.5 0.5\n",
            " 0.5 0.5 0.5 0.5 0.5 0.5 0.5 0.5 0.5 0.5 0.5 0.5 0.5 0.5 0.5 0.5 0.5 0.5\n",
            " 0.5 0.5 0.5 0.5 0.5 0.5 0.5 0.5 0.5 0.5 0.5 0.5 0.5 0.5 0.5 0.5 0.5 0.5\n",
            " 0.5 0.5 0.5 0.5 0.5 0.5 0.5 0.5 0.5 0.5 0.5 0.5 0.5 0.5 0.5 0.5 0.5 0.5\n",
            " 0.5 0.5 0.5 0.5 0.5 0.5 0.5 0.5 0.5 0.5 0.5 0.5 0.5 0.5 0.5 0.5 0.5 0.5\n",
            " 0.5 0.5 0.5 0.5 0.5 0.5 0.5 0.5 0.5 0.5 0.5 0.5 0.5 0.5 0.5 0.5 0.5 0.5\n",
            " 0.5 0.5 0.5 0.5 0.5 0.5 0.5 0.5 0.5 0.5 0.5 0.5 0.5 0.5 0.5 0.5 0.5 0.5\n",
            " 0.5 0.5 0.5 0.5 0.5 0.5 0.5 0.5 0.5 0.5 0.5 0.5 0.5 0.5 0.5 0.5 0.5 0.5\n",
            " 0.5 0.5 0.5 0.5 0.5 0.5 0.5 0.5 0.5 0.5 0.5 0.5 0.5 0.5 0.5 0.5 0.5 0.5\n",
            " 0.5 0.5 0.5 0.5 0.5 0.5 0.5 0.5 0.5 0.5 0.5 0.5 0.5 0.5 0.5 0.5 0.5 0.5\n",
            " 0.5 0.5 0.5 0.5 0.5 0.5 0.5 0.5 0.5 0.5 0.5 0.5 0.5 0.5 0.5 0.5 0.5 0.5\n",
            " 0.5 0.5 0.5 0.5 0.5 0.5 0.5 0.5 0.5 0.5 0.5 0.5 0.5 0.5 0.5 0.5 0.5 0.5\n",
            " 0.5 0.5 0.5 0.5 0.5 0.5 0.5 0.5 0.5 0.5 0.5 0.5 0.5 0.5 0.5 0.5 0.5 0.5\n",
            " 0.5 0.5 0.5 0.5 0.5 0.5 0.5 0.5 0.5 0.5 0.5 0.5 0.5 0.5 0.5 0.5 0.5 0.5\n",
            " 0.5 0.5 0.5 0.5 0.5 0.5 0.5 0.5 0.5 0.5 0.5 0.5 0.5 0.5 0.5 0.5 0.5 0.5\n",
            " 0.5 0.5 0.5 0.5 0.5 0.5 0.5 0.5 0.5 0.5 0.5 0.5 0.5 0.5 0.5 0.5 0.5 0.5\n",
            " 0.5 0.5 0.5 0.5 0.5 0.5 0.5 0.5 0.5 0.5 0.5 0.5 0.5 0.5 0.5 0.5 0.5 0.5\n",
            " 0.5 0.5 0.5 0.5 0.5 0.5 0.5 0.5 0.5 0.5 0.5 0.5 0.5 0.5 0.5 0.5 0.5 0.5\n",
            " 0.5 0.5 0.5 0.5 0.5 0.5 0.5 0.5 0.5 0.5 0.5 0.5 0.5 0.5 0.5 0.5 0.5 0.5\n",
            " 0.5 0.5 0.5 0.5 0.5 0.5 0.5 0.5 0.5 0.5 0.5 0.5 0.5 0.5 0.5 0.5 0.5 0.5\n",
            " 0.5 0.5 0.5 0.5 0.5 0.5 0.5 0.5 0.5 0.5 0.5 0.5 0.5 0.5 0.5 0.5 0.5 0.5\n",
            " 0.5 0.5 0.5 0.5 0.5 0.5 0.5 0.5 0.5 0.5 0.5 0.5 0.5 0.5 0.5 0.5 0.5 0.5\n",
            " 0.5 0.5 0.5 0.5 0.5 0.5 0.5 0.5 0.5 0.5 0.5 0.5 0.5 0.5 0.5 0.5 0.5 0.5\n",
            " 0.5 0.5 0.5 0.5 0.5 0.5 0.5 0.5 0.5]\n"
          ]
        }
      ]
    },
    {
      "cell_type": "code",
      "source": [
        "Gradient.shape\n",
        "Gradient = np.full(1000,0.5)\n",
        "Gradient.shape\n",
        "print(x.shape)"
      ],
      "metadata": {
        "colab": {
          "base_uri": "https://localhost:8080/"
        },
        "id": "eaHOkwzz2LWJ",
        "outputId": "0afe1faf-61d1-48d5-b77e-1742d5ca7099"
      },
      "execution_count": 8,
      "outputs": [
        {
          "output_type": "stream",
          "name": "stdout",
          "text": [
            "(1000,)\n"
          ]
        }
      ]
    },
    {
      "cell_type": "markdown",
      "source": [
        "[Problem 4] Draw a graph"
      ],
      "metadata": {
        "id": "5PAU1rPF2UWr"
      }
    },
    {
      "cell_type": "markdown",
      "source": [
        "Draw a graph of the linear function using Matplotlib. Also, draw a graph with x on the horizontal axis and gradient on the vertical axis."
      ],
      "metadata": {
        "id": "PZiI6h9P2VZ5"
      }
    },
    {
      "cell_type": "code",
      "source": [
        "import matplotlib.pyplot as plt\n",
        "plt.scatter(x,Gradient)\n",
        "plt.xlabel(\"x\")\n",
        "plt.ylabel(\"Gradient\")\n",
        "plt.title('x from gradient')\n",
        "plt.grid()\n",
        "plt.show"
      ],
      "metadata": {
        "colab": {
          "base_uri": "https://localhost:8080/",
          "height": 489
        },
        "id": "n2xcbKSN2Xag",
        "outputId": "f990b2db-4b23-4b3d-d953-89b7903ffa24"
      },
      "execution_count": 10,
      "outputs": [
        {
          "output_type": "execute_result",
          "data": {
            "text/plain": [
              "<function matplotlib.pyplot.show(close=None, block=None)>"
            ]
          },
          "metadata": {},
          "execution_count": 10
        },
        {
          "output_type": "display_data",
          "data": {
            "text/plain": [
              "<Figure size 640x480 with 1 Axes>"
            ],
            "image/png": "[encoded data removed]"
          },
          "metadata": {}
        }
      ]
    },
    {
      "cell_type": "markdown",
      "source": [
        "[Problem 5] Python functionalization"
      ],
      "metadata": {
        "id": "4M63ql0d22F4"
      }
    },
    {
      "cell_type": "markdown",
      "source": [
        "Please refer to the template to create a Python function that summarizes the problems 1 to 3."
      ],
      "metadata": {
        "id": "NuhOU6fI2274"
      }
    },
    {
      "cell_type": "markdown",
      "source": [
        "Then, calculate the gradient of the following three equations at 0.1 intervals and output it with ndarray."
      ],
      "metadata": {
        "id": "oc0ugrmw27ro"
      }
    },
    {
      "cell_type": "code",
      "source": [
        "import numpy as np\n",
        "def compute_gradient(func, x=(-50, 50.1, 0.1)):\n",
        "  x = np.arange(x[0],x[1],x[2])\n",
        "  y = func(x)\n",
        "  array_xy = np.stack([x,y], axis=1)\n",
        "  xGrad = x[1:] - x[:-1]\n",
        "  yGrad = y[1:] - y[:-1]\n",
        "  gradient = yGrad/xGrad\n",
        "  return array_xy, gradient\n",
        "def function1(x):\n",
        "  array_y = x**2\n",
        "  return array_y\n",
        "\n",
        "def function2(x):\n",
        "  array_y = 2*x**2 + 2**x\n",
        "  return array_y\n",
        "\n",
        "def function3(x):\n",
        "  array_y = np.sin(x**0.5)\n",
        "  return array_y\n",
        "\n",
        "array_xy, gradient = compute_gradient(function3)\n",
        "import matplotlib.pyplot as plt\n",
        "plt.plot(array_xy[:1000,0],gradient)\n",
        "print(gradient)"
      ],
      "metadata": {
        "colab": {
          "base_uri": "https://localhost:8080/",
          "height": 1000
        },
        "id": "AmaMxRUO29Yp",
        "outputId": "82ca6ea6-87fa-43f3-f52e-c0ac5bc72ecb"
      },
      "execution_count": 11,
      "outputs": [
        {
          "output_type": "stream",
          "name": "stdout",
          "text": [
            "[            nan             nan             nan             nan\n",
            "             nan             nan             nan             nan\n",
            "             nan             nan             nan             nan\n",
            "             nan             nan             nan             nan\n",
            "             nan             nan             nan             nan\n",
            "             nan             nan             nan             nan\n",
            "             nan             nan             nan             nan\n",
            "             nan             nan             nan             nan\n",
            "             nan             nan             nan             nan\n",
            "             nan             nan             nan             nan\n",
            "             nan             nan             nan             nan\n",
            "             nan             nan             nan             nan\n",
            "             nan             nan             nan             nan\n",
            "             nan             nan             nan             nan\n",
            "             nan             nan             nan             nan\n",
            "             nan             nan             nan             nan\n",
            "             nan             nan             nan             nan\n",
            "             nan             nan             nan             nan\n",
            "             nan             nan             nan             nan\n",
            "             nan             nan             nan             nan\n",
            "             nan             nan             nan             nan\n",
            "             nan             nan             nan             nan\n",
            "             nan             nan             nan             nan\n",
            "             nan             nan             nan             nan\n",
            "             nan             nan             nan             nan\n",
            "             nan             nan             nan             nan\n",
            "             nan             nan             nan             nan\n",
            "             nan             nan             nan             nan\n",
            "             nan             nan             nan             nan\n",
            "             nan             nan             nan             nan\n",
            "             nan             nan             nan             nan\n",
            "             nan             nan             nan             nan\n",
            "             nan             nan             nan             nan\n",
            "             nan             nan             nan             nan\n",
            "             nan             nan             nan             nan\n",
            "             nan             nan             nan             nan\n",
            "             nan             nan             nan             nan\n",
            "             nan             nan             nan             nan\n",
            "             nan             nan             nan             nan\n",
            "             nan             nan             nan             nan\n",
            "             nan             nan             nan             nan\n",
            "             nan             nan             nan             nan\n",
            "             nan             nan             nan             nan\n",
            "             nan             nan             nan             nan\n",
            "             nan             nan             nan             nan\n",
            "             nan             nan             nan             nan\n",
            "             nan             nan             nan             nan\n",
            "             nan             nan             nan             nan\n",
            "             nan             nan             nan             nan\n",
            "             nan             nan             nan             nan\n",
            "             nan             nan             nan             nan\n",
            "             nan             nan             nan             nan\n",
            "             nan             nan             nan             nan\n",
            "             nan             nan             nan             nan\n",
            "             nan             nan             nan             nan\n",
            "             nan             nan             nan             nan\n",
            "             nan             nan             nan             nan\n",
            "             nan             nan             nan             nan\n",
            "             nan             nan             nan             nan\n",
            "             nan             nan             nan             nan\n",
            "             nan             nan             nan             nan\n",
            "             nan             nan             nan             nan\n",
            "             nan             nan             nan             nan\n",
            "             nan             nan             nan             nan\n",
            "             nan             nan             nan             nan\n",
            "             nan             nan             nan             nan\n",
            "             nan             nan             nan             nan\n",
            "             nan             nan             nan             nan\n",
            "             nan             nan             nan             nan\n",
            "             nan             nan             nan             nan\n",
            "             nan             nan             nan             nan\n",
            "             nan             nan             nan             nan\n",
            "             nan             nan             nan             nan\n",
            "             nan             nan             nan             nan\n",
            "             nan             nan             nan             nan\n",
            "             nan             nan             nan             nan\n",
            "             nan             nan             nan             nan\n",
            "             nan             nan             nan             nan\n",
            "             nan             nan             nan             nan\n",
            "             nan             nan             nan             nan\n",
            "             nan             nan             nan             nan\n",
            "             nan             nan             nan             nan\n",
            "             nan             nan             nan             nan\n",
            "             nan             nan             nan             nan\n",
            "             nan             nan             nan             nan\n",
            "             nan             nan             nan             nan\n",
            "             nan             nan             nan             nan\n",
            "             nan             nan             nan             nan\n",
            "             nan             nan             nan             nan\n",
            "             nan             nan             nan             nan\n",
            "             nan             nan             nan             nan\n",
            "             nan             nan             nan             nan\n",
            "             nan             nan             nan             nan\n",
            "             nan             nan             nan             nan\n",
            "             nan             nan             nan             nan\n",
            "             nan             nan             nan             nan\n",
            "             nan             nan             nan             nan\n",
            "             nan             nan             nan             nan\n",
            "             nan             nan             nan             nan\n",
            "             nan             nan             nan             nan\n",
            "             nan             nan             nan             nan\n",
            "             nan             nan             nan             nan\n",
            "             nan             nan             nan             nan\n",
            "             nan             nan             nan             nan\n",
            "             nan             nan             nan             nan\n",
            "             nan             nan             nan             nan\n",
            "             nan             nan             nan             nan\n",
            "             nan             nan             nan             nan\n",
            "             nan             nan             nan             nan\n",
            "             nan             nan             nan             nan\n",
            "             nan             nan             nan             nan\n",
            "             nan             nan             nan             nan\n",
            "             nan             nan             nan             nan\n",
            "             nan             nan             nan             nan\n",
            "             nan             nan             nan             nan\n",
            "             nan             nan             nan             nan\n",
            "             nan             nan             nan             nan\n",
            "             nan             nan             nan             nan\n",
            "             nan             nan             nan             nan\n",
            "             nan             nan             nan             nan\n",
            "             nan             nan             nan             nan\n",
            "             nan             nan             nan             nan\n",
            "             nan             nan             nan             nan\n",
            "             nan             nan             nan             nan\n",
            "             nan             nan             nan             nan\n",
            "  3.10982750e+00  1.21471246e+00  8.82894606e-01  7.03828177e-01\n",
            "  5.85098219e-01  4.97909314e-01  4.29817921e-01  3.74409878e-01\n",
            "  3.27982463e-01  2.88220882e-01  2.53589429e-01  2.23021164e-01\n",
            "  1.95746946e-01  1.71195280e-01  1.48930670e-01  1.28614067e-01\n",
            "  1.09976607e-01  9.28016447e-02  7.69121494e-02  6.21616541e-02\n",
            "  4.84276337e-02  3.56065709e-02  2.36102232e-02  1.23627575e-02\n",
            "  1.79852267e-03 -8.13970144e-03 -1.75020966e-02 -2.63329234e-02\n",
            " -3.46714259e-02 -4.25525706e-02 -5.00076542e-02 -5.70648075e-02\n",
            " -6.37494153e-02 -7.00844696e-02 -7.60908669e-02 -8.17876614e-02\n",
            " -8.71922805e-02 -9.23207097e-02 -9.71876518e-02 -1.01806665e-01\n",
            " -1.06190281e-01 -1.10350114e-01 -1.14296943e-01 -1.18040803e-01\n",
            " -1.21591046e-01 -1.24956409e-01 -1.28145068e-01 -1.31164685e-01\n",
            " -1.34022457e-01 -1.36725148e-01 -1.39279130e-01 -1.41690412e-01\n",
            " -1.43964668e-01 -1.46107264e-01 -1.48123281e-01 -1.50017535e-01\n",
            " -1.51794595e-01 -1.53458804e-01 -1.55014290e-01 -1.56464986e-01\n",
            " -1.57814637e-01 -1.59066818e-01 -1.60224940e-01 -1.61292264e-01\n",
            " -1.62271907e-01 -1.63166853e-01 -1.63979961e-01 -1.64713971e-01\n",
            " -1.65371512e-01 -1.65955107e-01 -1.66467180e-01 -1.66910061e-01\n",
            " -1.67285991e-01 -1.67597127e-01 -1.67845546e-01 -1.68033248e-01\n",
            " -1.68162164e-01 -1.68234153e-01 -1.68251013e-01 -1.68214476e-01\n",
            " -1.68126217e-01 -1.67987855e-01 -1.67800956e-01 -1.67567032e-01\n",
            " -1.67287549e-01 -1.66963925e-01 -1.66597533e-01 -1.66189703e-01\n",
            " -1.65741725e-01 -1.65254849e-01 -1.64730287e-01 -1.64169216e-01\n",
            " -1.63572777e-01 -1.62942078e-01 -1.62278195e-01 -1.61582174e-01\n",
            " -1.60855030e-01 -1.60097750e-01 -1.59311294e-01 -1.58496594e-01\n",
            " -1.57654559e-01 -1.56786070e-01 -1.55891988e-01 -1.54973148e-01\n",
            " -1.54030364e-01 -1.53064430e-01 -1.52076116e-01 -1.51066176e-01\n",
            " -1.50035341e-01 -1.48984327e-01 -1.47913828e-01 -1.46824524e-01\n",
            " -1.45717075e-01 -1.44592127e-01 -1.43450308e-01 -1.42292233e-01\n",
            " -1.41118500e-01 -1.39929694e-01 -1.38726383e-01 -1.37509125e-01\n",
            " -1.36278463e-01 -1.35034926e-01 -1.33779033e-01 -1.32511288e-01\n",
            " -1.31232186e-01 -1.29942208e-01 -1.28641825e-01 -1.27331497e-01\n",
            " -1.26011673e-01 -1.24682792e-01 -1.23345283e-01 -1.21999566e-01\n",
            " -1.20646049e-01 -1.19285134e-01 -1.17917210e-01 -1.16542662e-01\n",
            " -1.15161862e-01 -1.13775175e-01 -1.12382960e-01 -1.10985565e-01\n",
            " -1.09583331e-01 -1.08176593e-01 -1.06765677e-01 -1.05350902e-01\n",
            " -1.03932580e-01 -1.02511016e-01 -1.01086509e-01 -9.96593500e-02\n",
            " -9.82298253e-02 -9.67982135e-02 -9.53647876e-02 -9.39298146e-02\n",
            " -9.24935554e-02 -9.10562654e-02 -8.96181941e-02 -8.81795859e-02\n",
            " -8.67406793e-02 -8.53017079e-02 -8.38629002e-02 -8.24244793e-02\n",
            " -8.09866636e-02 -7.95496668e-02 -7.81136975e-02 -7.66789600e-02\n",
            " -7.52456538e-02 -7.38139742e-02 -7.23841121e-02 -7.09562539e-02\n",
            " -6.95305820e-02 -6.81072748e-02 -6.66865065e-02 -6.52684475e-02\n",
            " -6.38532643e-02 -6.24411195e-02 -6.10321722e-02 -5.96265778e-02\n",
            " -5.82244881e-02 -5.68260514e-02 -5.54314126e-02 -5.40407133e-02\n",
            " -5.26540916e-02 -5.12716827e-02 -4.98936184e-02 -4.85200273e-02\n",
            " -4.71510352e-02 -4.57867648e-02 -4.44273357e-02 -4.30728650e-02\n",
            " -4.17234665e-02 -4.03792516e-02 -3.90403287e-02 -3.77068038e-02\n",
            " -3.63787800e-02 -3.50563580e-02 -3.37396358e-02 -3.24287092e-02\n",
            " -3.11236712e-02 -2.98246126e-02 -2.85316218e-02 -2.72447850e-02\n",
            " -2.59641860e-02 -2.46899063e-02 -2.34220253e-02 -2.21606204e-02\n",
            " -2.09057666e-02 -1.96575370e-02 -1.84160026e-02 -1.71812324e-02\n",
            " -1.59532934e-02 -1.47322507e-02 -1.35181675e-02 -1.23111051e-02\n",
            " -1.11111230e-02 -9.91827895e-03 -8.73262873e-03 -7.55422654e-03\n",
            " -6.38312482e-03 -5.21937432e-03 -4.06302414e-03 -2.91412175e-03\n",
            " -1.77271302e-03 -6.38842256e-04  4.87447793e-04  1.60611589e-03\n",
            "  2.71712230e-03  3.82042874e-03  4.91599839e-03  6.00379584e-03\n",
            "  7.08378706e-03  8.15593940e-03  9.22022158e-03  1.02766036e-02\n",
            "  1.13250568e-02  1.23655538e-02  1.33980685e-02  1.44225759e-02\n",
            "  1.54390524e-02  1.64474755e-02  1.74478238e-02  1.84400773e-02\n",
            "  1.94242169e-02  2.04002247e-02  2.13680839e-02  2.23277787e-02\n",
            "  2.32792946e-02  2.42226179e-02  2.51577360e-02  2.60846372e-02\n",
            "  2.70033111e-02  2.79137480e-02  2.88159392e-02  2.97098770e-02\n",
            "  3.05955546e-02  3.14729661e-02  3.23421065e-02  3.32029717e-02\n",
            "  3.40555585e-02  3.48998644e-02  3.57358878e-02  3.65636281e-02\n",
            "  3.73830852e-02  3.81942601e-02  3.89971543e-02  3.97917703e-02\n",
            "  4.05781111e-02  4.13561807e-02  4.21259836e-02  4.28875253e-02\n",
            "  4.36408116e-02  4.43858493e-02  4.51226459e-02  4.58512092e-02\n",
            "  4.65715481e-02  4.72836719e-02  4.79875906e-02  4.86833147e-02\n",
            "  4.93708554e-02  5.00502245e-02  5.07214345e-02  5.13844982e-02\n",
            "  5.20394293e-02  5.26862416e-02  5.33249500e-02  5.39555695e-02\n",
            "  5.45781158e-02  5.51926051e-02  5.57990541e-02  5.63974801e-02\n",
            "  5.69879006e-02  5.75703338e-02  5.81447984e-02  5.87113135e-02\n",
            "  5.92698986e-02  5.98205737e-02  6.03633592e-02  6.08982759e-02\n",
            "  6.14253451e-02  6.19445886e-02  6.24560282e-02  6.29596866e-02\n",
            "  6.34555866e-02  6.39437514e-02  6.44242046e-02  6.48969702e-02\n",
            "  6.53620725e-02  6.58195361e-02  6.62693861e-02  6.67116479e-02\n",
            "  6.71463470e-02  6.75735096e-02  6.79931618e-02  6.84053304e-02\n",
            "  6.88100422e-02  6.92073245e-02  6.95972047e-02  6.99797106e-02\n",
            "  7.03548703e-02  7.07227122e-02  7.10832647e-02  7.14365568e-02\n",
            "  7.17826176e-02  7.21214763e-02  7.24531626e-02  7.27777063e-02\n",
            "  7.30951374e-02  7.34054863e-02  7.37087833e-02  7.40050593e-02\n",
            "  7.42943450e-02  7.45766717e-02  7.48520706e-02  7.51205733e-02\n",
            "  7.53822113e-02  7.56370167e-02  7.58850214e-02  7.61262576e-02\n",
            "  7.63607578e-02  7.65885544e-02  7.68096803e-02  7.70241682e-02\n",
            "  7.72320512e-02  7.74333624e-02  7.76281351e-02  7.78164028e-02\n",
            "  7.79981991e-02  7.81735576e-02  7.83425121e-02  7.85050966e-02\n",
            "  7.86613452e-02  7.88112919e-02  7.89549712e-02  7.90924174e-02\n",
            "  7.92236649e-02  7.93487483e-02  7.94677024e-02  7.95805618e-02\n",
            "  7.96873615e-02  7.97881363e-02  7.98829213e-02  7.99717516e-02\n",
            "  8.00546622e-02  8.01316885e-02  8.02028657e-02  8.02682293e-02\n",
            "  8.03278145e-02  8.03816569e-02  8.04297920e-02  8.04722554e-02\n",
            "  8.05090827e-02  8.05403095e-02  8.05659717e-02  8.05861048e-02\n",
            "  8.06007447e-02  8.06099273e-02  8.06136883e-02  8.06120636e-02\n",
            "  8.06050891e-02  8.05928007e-02  8.05752345e-02  8.05524262e-02\n",
            "  8.05244119e-02  8.04912275e-02  8.04529091e-02  8.04094925e-02\n",
            "  8.03610139e-02  8.03075093e-02  8.02490145e-02  8.01855656e-02\n",
            "  8.01171986e-02  8.00439494e-02  7.99658541e-02  7.98829485e-02\n",
            "  7.97952687e-02  7.97028506e-02  7.96057299e-02  7.95039428e-02\n",
            "  7.93975249e-02  7.92865122e-02  7.91709404e-02  7.90508454e-02\n",
            "  7.89262628e-02  7.87972285e-02  7.86637781e-02  7.85259473e-02\n",
            "  7.83837716e-02  7.82372866e-02  7.80865280e-02  7.79315311e-02\n",
            "  7.77723314e-02  7.76089643e-02  7.74414652e-02  7.72698693e-02\n",
            "  7.70942120e-02  7.69145284e-02  7.67308536e-02  7.65432227e-02\n",
            "  7.63516708e-02  7.61562329e-02  7.59569438e-02  7.57538384e-02\n",
            "  7.55469514e-02  7.53363177e-02  7.51219718e-02  7.49039484e-02\n",
            "  7.46822819e-02  7.44570068e-02  7.42281575e-02  7.39957683e-02\n",
            "  7.37598735e-02  7.35205071e-02  7.32777032e-02  7.30314959e-02\n",
            "  7.27819191e-02  7.25290067e-02  7.22727923e-02  7.20133097e-02\n",
            "  7.17505924e-02  7.14846741e-02  7.12155880e-02  7.09433677e-02\n",
            "  7.06680462e-02  7.03896568e-02  7.01082326e-02  6.98238066e-02\n",
            "  6.95364116e-02  6.92460805e-02  6.89528459e-02  6.86567406e-02\n",
            "  6.83577969e-02  6.80560474e-02  6.77515244e-02  6.74442601e-02\n",
            "  6.71342867e-02  6.68216362e-02  6.65063405e-02  6.61884315e-02\n",
            "  6.58679409e-02  6.55449004e-02  6.52193415e-02  6.48912956e-02\n",
            "  6.45607940e-02  6.42278680e-02  6.38925488e-02  6.35548672e-02\n",
            "  6.32148542e-02  6.28725406e-02  6.25279572e-02  6.21811344e-02\n",
            "  6.18321027e-02  6.14808926e-02  6.11275342e-02  6.07720578e-02\n",
            "  6.04144933e-02  6.00548706e-02  5.96932196e-02  5.93295700e-02\n",
            "  5.89639513e-02  5.85963930e-02  5.82269245e-02  5.78555750e-02\n",
            "  5.74823736e-02  5.71073494e-02  5.67305311e-02  5.63519476e-02\n",
            "  5.59716276e-02  5.55895996e-02  5.52058920e-02  5.48205332e-02\n",
            "  5.44335512e-02  5.40449742e-02  5.36548301e-02  5.32631468e-02\n",
            "  5.28699520e-02  5.24752732e-02  5.20791379e-02  5.16815735e-02\n",
            "  5.12826072e-02  5.08822661e-02  5.04805772e-02  5.00775673e-02]\n"
          ]
        },
        {
          "output_type": "stream",
          "name": "stderr",
          "text": [
            "<ipython-input-11-31a07621fa28>:19: RuntimeWarning: invalid value encountered in sqrt\n",
            "  array_y = np.sin(x**0.5)\n"
          ]
        },
        {
          "output_type": "display_data",
          "data": {
            "text/plain": [
              "<Figure size 640x480 with 1 Axes>"
            ],
            "image/png": "[encoded data removed]"
          },
          "metadata": {}
        }
      ]
    },
    {
      "cell_type": "markdown",
      "source": [
        "[Problem 6] Find the minimum value"
      ],
      "metadata": {
        "id": "50GEkrC03axI"
      }
    },
    {
      "cell_type": "markdown",
      "source": [
        "Find the minimum value of y for the function treated in Problem 5. The range of x is the same as in Problem 5."
      ],
      "metadata": {
        "id": "fls-CZlr3poq"
      }
    },
    {
      "cell_type": "code",
      "source": [
        "import numpy as np\n",
        "np.amin(y)"
      ],
      "metadata": {
        "colab": {
          "base_uri": "https://localhost:8080/"
        },
        "id": "T2uD9m623qr4",
        "outputId": "f97a5547-2423-4703-cfa8-98cee3492b07"
      },
      "execution_count": 12,
      "outputs": [
        {
          "output_type": "execute_result",
          "data": {
            "text/plain": [
              "-24.0"
            ]
          },
          "metadata": {},
          "execution_count": 12
        }
      ]
    }
  ]
}