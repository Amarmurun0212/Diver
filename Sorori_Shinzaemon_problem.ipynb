{
  "nbformat": 4,
  "nbformat_minor": 0,
  "metadata": {
    "colab": {
      "provenance": [],
      "authorship_tag": "ABX9TyNqgj6LxUMDg4Pdat1e7VBG",
      "include_colab_link": true
    },
    "kernelspec": {
      "name": "python3",
      "display_name": "Python 3"
    },
    "language_info": {
      "name": "python"
    }
  },
  "cells": [
    {
      "cell_type": "markdown",
      "metadata": {
        "id": "view-in-github",
        "colab_type": "text"
      },
      "source": [
        "<a href=\"https://colab.research.google.com/github/Amarmurun0212/Diver/blob/main/Sorori_Shinzaemon_problem.ipynb\" target=\"_parent\"><img src=\"https://colab.research.google.com/assets/colab-badge.svg\" alt=\"Open In Colab\"/></a>"
      ]
    },
    {
      "cell_type": "markdown",
      "source": [
        "Problem №1"
      ],
      "metadata": {
        "id": "EjBCUqV6ayaU"
      }
    },
    {
      "cell_type": "code",
      "source": [],
      "metadata": {
        "id": "NNPbaCXyaxsu"
      },
      "execution_count": null,
      "outputs": []
    },
    {
      "cell_type": "code",
      "execution_count": null,
      "metadata": {
        "id": "jgroczxpW2GZ"
      },
      "outputs": [],
      "source": [
        "def compute_sorori_shinzaemon(n_days=100):\n",
        "    \"\" \"A function that calculates the number of rice grains per day in the rice anecdote of Shinzaemon Sorori.\n",
        "\n",
        "    Parameteres\n",
        "    -----------\n",
        "    n_days: int\n",
        "        Number of days to get rice (default : 100)\n",
        "\n",
        "    Returns\n",
        "    -------\n",
        "    list_n_grains : list\n",
        "        List of the number of rice you get one day (list length equals n_days)\n",
        "    list_total_grains : list\n",
        "        List of total number of rice received by a certain day (list length is equal to n_days)\n",
        "    \"\"\"\n",
        "\n",
        "    # Write the code here. pass is an instruction that means do nothing.\n",
        "    pass\n",
        "\n",
        "    return list_n_grains, list_total_grains\n",
        "\n",
        "list_n_grains, list_total_grains = compute_sorori_shinzaemon(n_days=10)"
      ]
    }
  ]
}