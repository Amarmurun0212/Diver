{
  "nbformat": 4,
  "nbformat_minor": 0,
  "metadata": {
    "colab": {
      "provenance": [],
      "authorship_tag": "ABX9TyPyN9tAgHHyJDRi8QZyxSN7",
      "include_colab_link": true
    },
    "kernelspec": {
      "name": "python3",
      "display_name": "Python 3"
    },
    "language_info": {
      "name": "python"
    }
  },
  "cells": [
    {
      "cell_type": "markdown",
      "metadata": {
        "id": "view-in-github",
        "colab_type": "text"
      },
      "source": [
        "<a href=\"https://colab.research.google.com/github/Amarmurun0212/Diver/blob/main/LinearRegression.ipynb\" target=\"_parent\"><img src=\"https://colab.research.google.com/assets/colab-badge.svg\" alt=\"Open In Colab\"/></a>"
      ]
    },
    {
      "cell_type": "code",
      "execution_count": 1,
      "metadata": {
        "id": "1_9Mbi5ngcEQ"
      },
      "outputs": [],
      "source": [
        "from cProfile import label\n",
        "from traceback import format_tb\n",
        "import numpy as np\n",
        "import pandas as pd \n",
        "from sklearn.model_selection import train_test_split\n",
        "from sklearn.linear_model import LinearRegression\n",
        "import matplotlib.pyplot as plt\n",
        "from sklearn.preprocessing import StandardScaler\n",
        "from sklearn.metrics import mean_squared_error"
      ]
    },
    {
      "cell_type": "code",
      "source": [
        "class ScratchLinearRegression():\n",
        "    \"\"\"\n",
        "    線形回帰のスクラッチ実装 - Scratch implementation of linear regression\n",
        "    \n",
        "    Parameters\n",
        "    ----------\n",
        "    num_iter : int\n",
        "      イテレーション数 - Number of iterations\n",
        "    lr : float\n",
        "      学習率 - Learning rate\n",
        "    no_bias : bool\n",
        "      バイアス項を入れない場合はTrue - True if no bias term is included\n",
        "    verbose : bool\n",
        "      学習過程を出力する場合はTrue - True to output the learning process\n",
        "    \n",
        "    Attributes\n",
        "    ----------\n",
        "    self.coef_ : 次の形のndarray, shape (n_features,) - ndarray, shape (n_features,) of the following form\n",
        "        パラメータ Parameters\n",
        "    self.loss : 次の形のndarray, shape (self.iter,) - ndarray of the following form, shape (self.iter,)\n",
        "      訓練データに対する損失の記録 - Recording losses for training data\n",
        "    self.val_loss : 次の形のndarray, shape (self.iter,) - ndarray, shape (self.iter,) of the following form\n",
        "      検証データに対する損失の記録 - Recording losses for validation data\n",
        "    \"\"\"\n",
        "    \n",
        "    def __init__(self, num_iter, lr, no_bias, verbose):\n",
        "        # ハイパーパラメータを属性として記録 - Record hyperparameters as attributes\n",
        "        self.iter = num_iter\n",
        "        self.lr = lr\n",
        "        self.no_bias = no_bias\n",
        "        self.verbose = verbose\n",
        "        self.theta = None \n",
        "        # 損失を記録する配列を用意 - Prepare an array to record the loss\n",
        "        self.loss = np.zeros(self.iter)\n",
        "        self.val_loss = np.zeros(self.iter)\n",
        "        #self.theta = np.\n",
        "        \n",
        "    def fit(self, X, y, X_val=None, y_val=None):\n",
        "        \"\"\"\n",
        "        線形回帰を学習する。検証データが入力された場合はそれに対する損失と精度もイテレーションごとに計算する。\n",
        "        Learn linear regression. If validation data is entered, the loss and accuracy for it are also calculated for each iteration.\n",
        "        Parameters\n",
        "        ----------\n",
        "        X : 次の形のndarray, shape (n_samples, n_features)\n",
        "            訓練データの特徴量 - Features of training data\n",
        "        y : 次の形のndarray, shape (n_samples, )\n",
        "            訓練データの正解値 - Correct answer value of training data\n",
        "        X_val : 次の形のndarray, shape (n_samples, n_features)\n",
        "            検証データの特徴量 - Features of verification data\n",
        "        y_val : 次の形のndarray, shape (n_samples, )\n",
        "            検証データの正解値 - Correct value of verification data\n",
        "        \"\"\"\n",
        "        if self.no_bias == True:\n",
        "            bias = np.ones((X.shape[0], 1))\n",
        "            X = np.hstack((bias, X))\n",
        "            if X_val is not None:\n",
        "                bias = np.ones((X_val.shape[0], 1))\n",
        "                X_val = np.hstack((bias, X_val))\n",
        "        self.theta = np.zeros(X.shape[1])\n",
        "        self.theta = self.theta.reshape(X.shape[1], 1)\n",
        "        for i in range(self.iter):\n",
        "            pred = self._linear_hypothesis(X)\n",
        "            self._gradient_descent(X, y)\n",
        "            #print('in the linear hyp theta:{}'.format(self.theta))\n",
        "            loss = self._loss_func(pred, y)\n",
        "            #print('loss:{}'.format(loss))\n",
        "            self.loss = np.append(self.loss, loss)         \n",
        "            if X_val is not None:\n",
        "                pred_val = self._linear_hypothesis(X_val)\n",
        "                loss_val = self._loss_func(pred_val, y_val)\n",
        "                self.val_loss = np.append(self.val_loss, loss_val)\n",
        "            if self.verbose == True:\n",
        "                print('The loss of the {} learning:{}'.format(i,loss))\n",
        "        \n",
        "    def predict(self, X):\n",
        "        \"\"\"\n",
        "        線形回帰を使い推定する。 Estimate using linear regression.\n",
        "        Parameters\n",
        "        ----------\n",
        "        X : 次の形のndarray, shape (n_samples, n_features)\n",
        "            サンプル sample\n",
        "        Returns\n",
        "        -------\n",
        "            次の形のndarray, shape (n_samples, 1)\n",
        "            線形回帰による推定結果 Estimated result by linear regression\n",
        "        \"\"\"\n",
        "        if self.no_bias == True:\n",
        "            bias = np.ones(X.shape[0]).reshape(X.shape[0], 1)\n",
        "            X = np.hstack([bias, X])\n",
        "        pred_y = self._linear_hypothesis(X)\n",
        "        return pred_y\n",
        "\n",
        "    def _linear_hypothesis(self, X):\n",
        "        \"\"\"\n",
        "        線形の仮定関数を計算する - Compute a linear hypothetical function\n",
        "\n",
        "        Parameters\n",
        "        ----------\n",
        "        X : 次の形のndarray, shape (n_samples, n_features)\n",
        "        訓練データ - Training data\n",
        "\n",
        "        Returns\n",
        "        -------\n",
        "        次の形のndarray, shape (n_samples, 1)\n",
        "        線形の仮定関数による推定結果 - Estimated result by linear hypothetical function\n",
        "\n",
        "        \"\"\"\n",
        "        \n",
        "        pred = np.dot(X,self.theta)\n",
        "        return pred\n",
        "\n",
        "    def _gradient_descent(self, X, y):\n",
        "        \"\"\"\n",
        "        Perform gradient descent for n iteration, which involves making a prediction, computing the gradients and updating the weight and biases\n",
        "\n",
        "        Parameters\n",
        "        ----------------------\n",
        "        X : 次の形のndarray, shape (n_samples, n_features)\n",
        "        訓練データ - Training data\n",
        "\n",
        "        y : 次の形のndarray, shape (n_samples, )\n",
        "            訓練データの正解値 - Correct answer value of training data\n",
        "\n",
        "        Returns\n",
        "        ----------------------\n",
        "\n",
        "        \"\"\"\n",
        "        m = X.shape[0]\n",
        "        n = X.shape[1]\n",
        "        pred = self._linear_hypothesis(X)\n",
        "        gradient = X.T @ (pred - y)\n",
        "        self.theta = self.theta - (self.lr/m) * gradient\n",
        "  \n",
        "\n",
        "        \n",
        "    def _MSE(self, y_pred, y):\n",
        "        \"\"\"\n",
        "        平均二乗誤差の計算 Calculation of mean square error\n",
        "\n",
        "        Parameters\n",
        "        ----------\n",
        "        y_pred : 次の形のndarray, shape (n_samples,)\n",
        "        推定した値 - Estimated value\n",
        "        y : 次の形のndarray, shape (n_samples,)\n",
        "        正解値 - Correct answer value\n",
        "\n",
        "        Returns\n",
        "        ----------\n",
        "        mse : numpy.float\n",
        "        平均二乗誤差 Mean squared error\n",
        "        \"\"\"\n",
        "        mse = ((y_pred - y) ** 2).sum() / y.shape[0]\n",
        "        return mse\n",
        "    \n",
        "    def _loss_func(self,y_pred, y):\n",
        "        loss = self._MSE(y_pred, y)/2\n",
        "        return loss\n"
      ],
      "metadata": {
        "id": "uhzUFdBggnsk"
      },
      "execution_count": 9,
      "outputs": []
    },
    {
      "cell_type": "code",
      "source": [
        "train = pd.read_csv(\"train.csv\")\n",
        "test = pd.read_csv(\"test.csv\")\n",
        "\n",
        "X = train.loc[:, ['GrLivArea', 'YearBuilt']]\n",
        "y = train.loc[:, ['SalePrice']]\n",
        "X = X.values\n",
        "y = y.values"
      ],
      "metadata": {
        "id": "HDt2C8jgjU3r"
      },
      "execution_count": 10,
      "outputs": []
    },
    {
      "cell_type": "markdown",
      "source": [
        "[Question 6] Learning and Estimation"
      ],
      "metadata": {
        "id": "NCAcf8wcjlBz"
      }
    },
    {
      "cell_type": "code",
      "source": [
        "X_train, X_test, y_train, y_test = train_test_split(X, y, train_size=0.05, random_state=123)\n",
        "print(X_train)\n",
        "print(y_train)"
      ],
      "metadata": {
        "colab": {
          "base_uri": "https://localhost:8080/"
        },
        "id": "Fuk1vPwujnfz",
        "outputId": "24dc3a07-f2d1-43f0-93bd-d1236ef71538"
      },
      "execution_count": 12,
      "outputs": [
        {
          "output_type": "stream",
          "name": "stdout",
          "text": [
            "[[1728 1976]\n",
            " [1176 1934]\n",
            " [1509 1988]\n",
            " [1632 1998]\n",
            " [ 630 1972]\n",
            " [ 864 1972]\n",
            " [1137 1987]\n",
            " [2117 1970]\n",
            " [1845 1992]\n",
            " [1048 1922]\n",
            " [ 816 1930]\n",
            " [ 864 1950]\n",
            " [1924 1998]\n",
            " [3447 1935]\n",
            " [2291 1999]\n",
            " [1367 1900]\n",
            " [1742 1985]\n",
            " [1343 1921]\n",
            " [1588 1959]\n",
            " [1256 1965]\n",
            " [1344 1958]\n",
            " [1947 2004]\n",
            " [1056 1955]\n",
            " [1680 1976]\n",
            " [1052 1968]\n",
            " [ 999 1962]\n",
            " [ 875 1931]\n",
            " [ 784 1924]\n",
            " [1800 1961]\n",
            " [1477 1928]\n",
            " [ 987 1973]\n",
            " [1221 2004]\n",
            " [1473 1968]\n",
            " [1919 2006]\n",
            " [1097 1984]\n",
            " [ 990 1995]\n",
            " [1762 1920]\n",
            " [1074 1975]\n",
            " [1691 1924]\n",
            " [1225 1959]\n",
            " [1876 1974]\n",
            " [ 864 1970]\n",
            " [1322 1974]\n",
            " [1368 1910]\n",
            " [2340 1941]\n",
            " [1152 1955]\n",
            " [1908 2002]\n",
            " [1786 2001]\n",
            " [1533 1975]\n",
            " [1694 1925]\n",
            " [1224 1962]\n",
            " [3194 1934]\n",
            " [1344 1997]\n",
            " [1724 1967]\n",
            " [1775 1993]\n",
            " [1412 2006]\n",
            " [1792 2000]\n",
            " [1430 2000]\n",
            " [2392 2003]\n",
            " [1440 1977]\n",
            " [1086 1954]\n",
            " [1656 2006]\n",
            " [ 796 1910]\n",
            " [2259 1953]\n",
            " [1588 1999]\n",
            " [1141 2005]\n",
            " [1564 1941]\n",
            " [1047 1885]\n",
            " [1632 1966]\n",
            " [ 960 1956]\n",
            " [2156 1968]\n",
            " [ 768 1972]\n",
            " [1218 1941]]\n",
            "[[150900]\n",
            " [114500]\n",
            " [175000]\n",
            " [176500]\n",
            " [ 81000]\n",
            " [111250]\n",
            " [176000]\n",
            " [237500]\n",
            " [189000]\n",
            " [113000]\n",
            " [120500]\n",
            " [129000]\n",
            " [280000]\n",
            " [381000]\n",
            " [230000]\n",
            " [119000]\n",
            " [275000]\n",
            " [154900]\n",
            " [134432]\n",
            " [147500]\n",
            " [144000]\n",
            " [254900]\n",
            " [145000]\n",
            " [136905]\n",
            " [138500]\n",
            " [132500]\n",
            " [105000]\n",
            " [109500]\n",
            " [141000]\n",
            " [145000]\n",
            " [100000]\n",
            " [185000]\n",
            " [143000]\n",
            " [233230]\n",
            " [152000]\n",
            " [156000]\n",
            " [157000]\n",
            " [153500]\n",
            " [127000]\n",
            " [128950]\n",
            " [185000]\n",
            " [116050]\n",
            " [147000]\n",
            " [114504]\n",
            " [266500]\n",
            " [ 82000]\n",
            " [202900]\n",
            " [223500]\n",
            " [280000]\n",
            " [136500]\n",
            " [101800]\n",
            " [359100]\n",
            " [206300]\n",
            " [197900]\n",
            " [213000]\n",
            " [156932]\n",
            " [186500]\n",
            " [180000]\n",
            " [386250]\n",
            " [150000]\n",
            " [144900]\n",
            " [249700]\n",
            " [ 85000]\n",
            " [217000]\n",
            " [214000]\n",
            " [142500]\n",
            " [174500]\n",
            " [100000]\n",
            " [173000]\n",
            " [112000]\n",
            " [262500]\n",
            " [133000]\n",
            " [131000]]\n"
          ]
        }
      ]
    },
    {
      "cell_type": "code",
      "source": [
        "scaler = StandardScaler()\n",
        "X_train = scaler.fit_transform(X_train)\n",
        "X_test = scaler.fit_transform(X_test)\n",
        "\n",
        "slr = ScratchLinearRegression(num_iter=1000, lr=0.01, no_bias=True, verbose=False)\n",
        "slr.fit(X_train, y_train, X_test, y_test)\n",
        "pred = slr.predict(X_test)\n",
        "#print(\"Prediction using ScrathLinearRegression:{}\".format(pred))\n",
        "score = mean_squared_error(y_test, pred)\n",
        "print(\"MSE of ScratchLinearRegression:{}\".format(score))\n",
        "\n",
        "\n",
        "reg = LinearRegression().fit(X_train, y_train)\n",
        "pred = reg.predict(X_test)\n",
        "#print(\"Prediction using LinearRegression from sklearn:{}\".format(pred))\n",
        "score = mean_squared_error(y_test, pred)\n",
        "print(\"MSE of sklearn Linear Regression:{}\".format(score))"
      ],
      "metadata": {
        "colab": {
          "base_uri": "https://localhost:8080/"
        },
        "id": "G9cI2MqJjrNM",
        "outputId": "0f6cd9d7-9a4a-406a-8db4-7d65cf381666"
      },
      "execution_count": 13,
      "outputs": [
        {
          "output_type": "stream",
          "name": "stdout",
          "text": [
            "MSE of ScratchLinearRegression:2572760845.6516953\n",
            "MSE of sklearn Linear Regression:2572703997.682861\n"
          ]
        }
      ]
    },
    {
      "cell_type": "markdown",
      "source": [
        "[Question 7] Learning curve plot"
      ],
      "metadata": {
        "id": "EiNJe7pbjxA7"
      }
    },
    {
      "cell_type": "code",
      "source": [
        "plt.plot(slr.loss, label = 'Training loss')\n",
        "plt.plot(slr.val_loss, label = 'Validation loss')\n",
        "plt.legend()\n",
        "plt.xlabel('iteration')\n",
        "plt.ylabel('Loss')\n",
        "plt.title('Learning curve')\n",
        "plt.show()"
      ],
      "metadata": {
        "colab": {
          "base_uri": "https://localhost:8080/",
          "height": 472
        },
        "id": "WGDBgQWMj028",
        "outputId": "9d1b2c24-28b0-4680-94ca-ebcebb46bedb"
      },
      "execution_count": 14,
      "outputs": [
        {
          "output_type": "display_data",
          "data": {
            "text/plain": [
              "<Figure size 640x480 with 1 Axes>"
            ],
            "image/png": "[encoded data removed]"
          },
          "metadata": {}
        }
      ]
    },
    {
      "cell_type": "markdown",
      "source": [
        "[Problem 8] (Advanced Exercise) Removal of Bias Term"
      ],
      "metadata": {
        "id": "Q7vOmQ_sj3A0"
      }
    },
    {
      "cell_type": "code",
      "source": [
        "slr = ScratchLinearRegression(num_iter=1000, lr=0.01, no_bias=False, verbose=False)\n",
        "slr.fit(X_train, y_train, X_test, y_test)\n",
        "pred = slr.predict(X_test)\n",
        "print(\"Prediction using ScrathLinearRegression:{}\".format(pred))"
      ],
      "metadata": {
        "colab": {
          "base_uri": "https://localhost:8080/"
        },
        "id": "G6Y_6Rg5j2fD",
        "outputId": "03568d3a-6279-45fa-8305-3325c6417119"
      },
      "execution_count": 15,
      "outputs": [
        {
          "output_type": "stream",
          "name": "stdout",
          "text": [
            "Prediction using ScrathLinearRegression:[[ 67666.31008183]\n",
            " [-13744.22662028]\n",
            " [ 36773.64176702]\n",
            " ...\n",
            " [-59887.62739426]\n",
            " [-26118.95062614]\n",
            " [ 98533.65954679]]\n"
          ]
        }
      ]
    },
    {
      "cell_type": "markdown",
      "source": [
        "[Problem 9] (Advanced problem) Multi-dimensional feature quantity"
      ],
      "metadata": {
        "id": "rj9tsmd2j_e7"
      }
    },
    {
      "cell_type": "code",
      "source": [
        "from sklearn.preprocessing import PolynomialFeatures\n",
        "poly_transformer = PolynomialFeatures(degree=2)\n",
        "\n",
        "X = train.loc[:, ['GrLivArea', 'YearBuilt']]\n",
        "y = train.loc[:, ['SalePrice']]\n",
        "\n",
        "poly_transformer.fit(X)\n",
        "X = poly_transformer.transform(X)\n",
        "print('Polynomial Features shape: ', X.shape)\n",
        "\n",
        "#X = X.values\n",
        "y = y.values\n",
        "\n",
        "\n",
        "X_train, X_test, y_train, y_test = train_test_split(X, y, train_size=0.05, random_state=123)\n",
        "\n",
        "scaler = StandardScaler()\n",
        "X_train = scaler.fit_transform(X_train)\n",
        "X_test = scaler.fit_transform(X_test)\n",
        "\n",
        "slr = ScratchLinearRegression(num_iter=1000, lr=0.01, no_bias=True, verbose=False)\n",
        "slr.fit(X_train, y_train, X_test, y_test)\n",
        "pred = slr.predict(X_test)\n",
        "#print(\"Prediction using ScrathLinearRegression with polinominal feature:{}\".format(pred))\n",
        "score = mean_squared_error(y_test, pred)\n",
        "print(\"MSE of ScratchLinearRegression with polynominal feauters:{}\".format(score))\n",
        "print('When using polynominal feature the root mean square error is reduced')"
      ],
      "metadata": {
        "colab": {
          "base_uri": "https://localhost:8080/"
        },
        "id": "c5gADdSckDK0",
        "outputId": "1b654879-8083-4023-8aa5-447f79a9a976"
      },
      "execution_count": 19,
      "outputs": [
        {
          "output_type": "stream",
          "name": "stdout",
          "text": [
            "Polynomial Features shape:  (1460, 6)\n",
            "MSE of ScratchLinearRegression with polynominal feauters:2638095753.7891254\n",
            "When using polynominal feature the root mean square error is reduced\n"
          ]
        }
      ]
    }
  ]
}